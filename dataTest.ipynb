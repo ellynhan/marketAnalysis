{
 "metadata": {
  "language_info": {
   "codemirror_mode": {
    "name": "ipython",
    "version": 3
   },
   "file_extension": ".py",
   "mimetype": "text/x-python",
   "name": "python",
   "nbconvert_exporter": "python",
   "pygments_lexer": "ipython3",
   "version": "3.9.0-final"
  },
  "orig_nbformat": 2,
  "kernelspec": {
   "name": "python3",
   "display_name": "Python 3.9.0 64-bit",
   "metadata": {
    "interpreter": {
     "hash": "63fd5069d213b44bf678585dea6b12cceca9941eaf7f819626cde1f2670de90d"
    }
   }
  }
 },
 "nbformat": 4,
 "nbformat_minor": 2,
 "cells": [
  {
   "cell_type": "code",
   "execution_count": 1,
   "metadata": {},
   "outputs": [],
   "source": [
    "import pandas as pd"
   ]
  },
  {
   "cell_type": "code",
   "execution_count": 9,
   "metadata": {},
   "outputs": [
    {
     "output_type": "execute_result",
     "data": {
      "text/plain": [
       "     구·군별  2020. 11 2020. 11.1 2020. 11.2 2020. 11.3 2020. 11.4  \\\n",
       "0    구·군별  읍면동수 (개)   세대수 (세대)   인구수  (명)  남자인구수 (명)  여자인구수 (명)   \n",
       "1   부산광역시       205    1527721    3442633    1688633    1754000   \n",
       "2      중구         9      23773      43571      21609      21962   \n",
       "3      서구        13      53724     110027      53535      56492   \n",
       "4      동구        12      46003      91194      44619      46575   \n",
       "5     영도구        11      54896     115513      57142      58371   \n",
       "6    부산진구        20     172561     362213     174861     187352   \n",
       "7     동래구        13     114826     272403     132444     139959   \n",
       "8      남구        17     117804     273735     134096     139639   \n",
       "9      북구        13     120665     287203     142052     145151   \n",
       "10   해운대구        18     171099     407182     196040     211142   \n",
       "11    사하구        16     138906     317333     158470     158863   \n",
       "12    금정구        16     107491     237153     115433     121720   \n",
       "13    강서구         8      57690     142064      74866      67198   \n",
       "14    연제구        12      92535     210666     101381     109285   \n",
       "15    수영구        10      84049     178576      84335      94241   \n",
       "16    사상구        12      97419     217787     110221     107566   \n",
       "17    기장군         5      74280     176013      87529      88484   \n",
       "\n",
       "            2020. 11.5 2020. 11.6  2020. 11.7  2020. 12  ... 2020. 12.6  \\\n",
       "0   시전체 인구에 대한 구성비 (%)     면적 (㎢)  인구밀도 (명/㎢)  읍면동수 (개)  ...     면적 (㎢)   \n",
       "1                100.0     770.07        4471       205  ...     770.07   \n",
       "2                  1.3       2.83       15396         9  ...       2.83   \n",
       "3                  3.2      13.98        7870        13  ...      13.96   \n",
       "4                  2.6       9.87        9240        12  ...       9.86   \n",
       "5                  3.4      14.20        8135        11  ...      14.20   \n",
       "6                 10.5      29.67       12208        20  ...      29.67   \n",
       "7                  7.9      16.63       16380        13  ...      16.63   \n",
       "8                  8.0      26.82       10206        17  ...      26.82   \n",
       "9                  8.3      39.37        7295        13  ...      39.37   \n",
       "10                11.8      51.47        7911        18  ...      51.50   \n",
       "11                 9.2      41.77        7597        16  ...      41.77   \n",
       "12                 6.9      65.27        3633        16  ...      65.26   \n",
       "13                 4.1     181.49         783         8  ...     181.49   \n",
       "14                 6.1      12.10       17410        12  ...      12.10   \n",
       "15                 5.2      10.21       17490        10  ...      10.21   \n",
       "16                 6.3      36.09        6035        12  ...      36.10   \n",
       "17                 5.1     218.30         806         5  ...     218.30   \n",
       "\n",
       "    2020. 12.7  2021. 01 2021. 01.1 2021. 01.2 2021. 01.3 2021. 01.4  \\\n",
       "0   인구밀도 (명/㎢)  읍면동수 (개)   세대수 (세대)   인구수  (명)  남자인구수 (명)  여자인구수 (명)   \n",
       "1         4465       205    1532700    3435787    1684737    1751050   \n",
       "2        15412         9      23923      43657      21599      22058   \n",
       "3         7883        13      53881     109876      53464      56412   \n",
       "4         9235        12      46081      90905      44464      46441   \n",
       "5         8109        11      54905     114844      56803      58041   \n",
       "6        12225        20     173746     362772     174998     187774   \n",
       "7        16354        13     115221     271917     132126     139791   \n",
       "8        10184        17     117885     272700     133507     139193   \n",
       "9         7272        13     120728     285787     141324     144463   \n",
       "10        7899        18     171528     406349     195600     210749   \n",
       "11        7571        16     138852     315489     157568     157921   \n",
       "12        3624        16     107415     235664     114741     120923   \n",
       "13         786         8      58512     143347      75515      67832   \n",
       "14       17366        12      92694     209856     100913     108943   \n",
       "15       17492        10      84460     178441      84273      94168   \n",
       "16        6015        12      97687     216678     109640     107038   \n",
       "17         809         5      75182     177505      88202      89303   \n",
       "\n",
       "            2021. 01.5 2021. 01.6  2021. 01.7  \n",
       "0   시전체 인구에 대한 구성비 (%)     면적 (㎢)  인구밀도 (명/㎢)  \n",
       "1                100.0     770.07        4462  \n",
       "2                  1.3       2.83       15427  \n",
       "3                  3.2      13.96        7871  \n",
       "4                  2.6       9.86        9220  \n",
       "5                  3.3      14.20        8088  \n",
       "6                 10.6      29.67       12227  \n",
       "7                  7.9      16.63       16351  \n",
       "8                  7.9      26.82       10168  \n",
       "9                  8.3      39.37        7259  \n",
       "10                11.8      51.50        7890  \n",
       "11                 9.2      41.77        7553  \n",
       "12                 6.9      65.26        3611  \n",
       "13                 4.2     181.49         790  \n",
       "14                 6.1      12.10       17343  \n",
       "15                 5.2      10.21       17477  \n",
       "16                 6.3      36.10        6002  \n",
       "17                 5.2     218.30         813  \n",
       "\n",
       "[18 rows x 25 columns]"
      ],
      "text/html": "<div>\n<style scoped>\n    .dataframe tbody tr th:only-of-type {\n        vertical-align: middle;\n    }\n\n    .dataframe tbody tr th {\n        vertical-align: top;\n    }\n\n    .dataframe thead th {\n        text-align: right;\n    }\n</style>\n<table border=\"1\" class=\"dataframe\">\n  <thead>\n    <tr style=\"text-align: right;\">\n      <th></th>\n      <th>구·군별</th>\n      <th>2020. 11</th>\n      <th>2020. 11.1</th>\n      <th>2020. 11.2</th>\n      <th>2020. 11.3</th>\n      <th>2020. 11.4</th>\n      <th>2020. 11.5</th>\n      <th>2020. 11.6</th>\n      <th>2020. 11.7</th>\n      <th>2020. 12</th>\n      <th>...</th>\n      <th>2020. 12.6</th>\n      <th>2020. 12.7</th>\n      <th>2021. 01</th>\n      <th>2021. 01.1</th>\n      <th>2021. 01.2</th>\n      <th>2021. 01.3</th>\n      <th>2021. 01.4</th>\n      <th>2021. 01.5</th>\n      <th>2021. 01.6</th>\n      <th>2021. 01.7</th>\n    </tr>\n  </thead>\n  <tbody>\n    <tr>\n      <th>0</th>\n      <td>구·군별</td>\n      <td>읍면동수 (개)</td>\n      <td>세대수 (세대)</td>\n      <td>인구수  (명)</td>\n      <td>남자인구수 (명)</td>\n      <td>여자인구수 (명)</td>\n      <td>시전체 인구에 대한 구성비 (%)</td>\n      <td>면적 (㎢)</td>\n      <td>인구밀도 (명/㎢)</td>\n      <td>읍면동수 (개)</td>\n      <td>...</td>\n      <td>면적 (㎢)</td>\n      <td>인구밀도 (명/㎢)</td>\n      <td>읍면동수 (개)</td>\n      <td>세대수 (세대)</td>\n      <td>인구수  (명)</td>\n      <td>남자인구수 (명)</td>\n      <td>여자인구수 (명)</td>\n      <td>시전체 인구에 대한 구성비 (%)</td>\n      <td>면적 (㎢)</td>\n      <td>인구밀도 (명/㎢)</td>\n    </tr>\n    <tr>\n      <th>1</th>\n      <td>부산광역시</td>\n      <td>205</td>\n      <td>1527721</td>\n      <td>3442633</td>\n      <td>1688633</td>\n      <td>1754000</td>\n      <td>100.0</td>\n      <td>770.07</td>\n      <td>4471</td>\n      <td>205</td>\n      <td>...</td>\n      <td>770.07</td>\n      <td>4465</td>\n      <td>205</td>\n      <td>1532700</td>\n      <td>3435787</td>\n      <td>1684737</td>\n      <td>1751050</td>\n      <td>100.0</td>\n      <td>770.07</td>\n      <td>4462</td>\n    </tr>\n    <tr>\n      <th>2</th>\n      <td>중구</td>\n      <td>9</td>\n      <td>23773</td>\n      <td>43571</td>\n      <td>21609</td>\n      <td>21962</td>\n      <td>1.3</td>\n      <td>2.83</td>\n      <td>15396</td>\n      <td>9</td>\n      <td>...</td>\n      <td>2.83</td>\n      <td>15412</td>\n      <td>9</td>\n      <td>23923</td>\n      <td>43657</td>\n      <td>21599</td>\n      <td>22058</td>\n      <td>1.3</td>\n      <td>2.83</td>\n      <td>15427</td>\n    </tr>\n    <tr>\n      <th>3</th>\n      <td>서구</td>\n      <td>13</td>\n      <td>53724</td>\n      <td>110027</td>\n      <td>53535</td>\n      <td>56492</td>\n      <td>3.2</td>\n      <td>13.98</td>\n      <td>7870</td>\n      <td>13</td>\n      <td>...</td>\n      <td>13.96</td>\n      <td>7883</td>\n      <td>13</td>\n      <td>53881</td>\n      <td>109876</td>\n      <td>53464</td>\n      <td>56412</td>\n      <td>3.2</td>\n      <td>13.96</td>\n      <td>7871</td>\n    </tr>\n    <tr>\n      <th>4</th>\n      <td>동구</td>\n      <td>12</td>\n      <td>46003</td>\n      <td>91194</td>\n      <td>44619</td>\n      <td>46575</td>\n      <td>2.6</td>\n      <td>9.87</td>\n      <td>9240</td>\n      <td>12</td>\n      <td>...</td>\n      <td>9.86</td>\n      <td>9235</td>\n      <td>12</td>\n      <td>46081</td>\n      <td>90905</td>\n      <td>44464</td>\n      <td>46441</td>\n      <td>2.6</td>\n      <td>9.86</td>\n      <td>9220</td>\n    </tr>\n    <tr>\n      <th>5</th>\n      <td>영도구</td>\n      <td>11</td>\n      <td>54896</td>\n      <td>115513</td>\n      <td>57142</td>\n      <td>58371</td>\n      <td>3.4</td>\n      <td>14.20</td>\n      <td>8135</td>\n      <td>11</td>\n      <td>...</td>\n      <td>14.20</td>\n      <td>8109</td>\n      <td>11</td>\n      <td>54905</td>\n      <td>114844</td>\n      <td>56803</td>\n      <td>58041</td>\n      <td>3.3</td>\n      <td>14.20</td>\n      <td>8088</td>\n    </tr>\n    <tr>\n      <th>6</th>\n      <td>부산진구</td>\n      <td>20</td>\n      <td>172561</td>\n      <td>362213</td>\n      <td>174861</td>\n      <td>187352</td>\n      <td>10.5</td>\n      <td>29.67</td>\n      <td>12208</td>\n      <td>20</td>\n      <td>...</td>\n      <td>29.67</td>\n      <td>12225</td>\n      <td>20</td>\n      <td>173746</td>\n      <td>362772</td>\n      <td>174998</td>\n      <td>187774</td>\n      <td>10.6</td>\n      <td>29.67</td>\n      <td>12227</td>\n    </tr>\n    <tr>\n      <th>7</th>\n      <td>동래구</td>\n      <td>13</td>\n      <td>114826</td>\n      <td>272403</td>\n      <td>132444</td>\n      <td>139959</td>\n      <td>7.9</td>\n      <td>16.63</td>\n      <td>16380</td>\n      <td>13</td>\n      <td>...</td>\n      <td>16.63</td>\n      <td>16354</td>\n      <td>13</td>\n      <td>115221</td>\n      <td>271917</td>\n      <td>132126</td>\n      <td>139791</td>\n      <td>7.9</td>\n      <td>16.63</td>\n      <td>16351</td>\n    </tr>\n    <tr>\n      <th>8</th>\n      <td>남구</td>\n      <td>17</td>\n      <td>117804</td>\n      <td>273735</td>\n      <td>134096</td>\n      <td>139639</td>\n      <td>8.0</td>\n      <td>26.82</td>\n      <td>10206</td>\n      <td>17</td>\n      <td>...</td>\n      <td>26.82</td>\n      <td>10184</td>\n      <td>17</td>\n      <td>117885</td>\n      <td>272700</td>\n      <td>133507</td>\n      <td>139193</td>\n      <td>7.9</td>\n      <td>26.82</td>\n      <td>10168</td>\n    </tr>\n    <tr>\n      <th>9</th>\n      <td>북구</td>\n      <td>13</td>\n      <td>120665</td>\n      <td>287203</td>\n      <td>142052</td>\n      <td>145151</td>\n      <td>8.3</td>\n      <td>39.37</td>\n      <td>7295</td>\n      <td>13</td>\n      <td>...</td>\n      <td>39.37</td>\n      <td>7272</td>\n      <td>13</td>\n      <td>120728</td>\n      <td>285787</td>\n      <td>141324</td>\n      <td>144463</td>\n      <td>8.3</td>\n      <td>39.37</td>\n      <td>7259</td>\n    </tr>\n    <tr>\n      <th>10</th>\n      <td>해운대구</td>\n      <td>18</td>\n      <td>171099</td>\n      <td>407182</td>\n      <td>196040</td>\n      <td>211142</td>\n      <td>11.8</td>\n      <td>51.47</td>\n      <td>7911</td>\n      <td>18</td>\n      <td>...</td>\n      <td>51.50</td>\n      <td>7899</td>\n      <td>18</td>\n      <td>171528</td>\n      <td>406349</td>\n      <td>195600</td>\n      <td>210749</td>\n      <td>11.8</td>\n      <td>51.50</td>\n      <td>7890</td>\n    </tr>\n    <tr>\n      <th>11</th>\n      <td>사하구</td>\n      <td>16</td>\n      <td>138906</td>\n      <td>317333</td>\n      <td>158470</td>\n      <td>158863</td>\n      <td>9.2</td>\n      <td>41.77</td>\n      <td>7597</td>\n      <td>16</td>\n      <td>...</td>\n      <td>41.77</td>\n      <td>7571</td>\n      <td>16</td>\n      <td>138852</td>\n      <td>315489</td>\n      <td>157568</td>\n      <td>157921</td>\n      <td>9.2</td>\n      <td>41.77</td>\n      <td>7553</td>\n    </tr>\n    <tr>\n      <th>12</th>\n      <td>금정구</td>\n      <td>16</td>\n      <td>107491</td>\n      <td>237153</td>\n      <td>115433</td>\n      <td>121720</td>\n      <td>6.9</td>\n      <td>65.27</td>\n      <td>3633</td>\n      <td>16</td>\n      <td>...</td>\n      <td>65.26</td>\n      <td>3624</td>\n      <td>16</td>\n      <td>107415</td>\n      <td>235664</td>\n      <td>114741</td>\n      <td>120923</td>\n      <td>6.9</td>\n      <td>65.26</td>\n      <td>3611</td>\n    </tr>\n    <tr>\n      <th>13</th>\n      <td>강서구</td>\n      <td>8</td>\n      <td>57690</td>\n      <td>142064</td>\n      <td>74866</td>\n      <td>67198</td>\n      <td>4.1</td>\n      <td>181.49</td>\n      <td>783</td>\n      <td>8</td>\n      <td>...</td>\n      <td>181.49</td>\n      <td>786</td>\n      <td>8</td>\n      <td>58512</td>\n      <td>143347</td>\n      <td>75515</td>\n      <td>67832</td>\n      <td>4.2</td>\n      <td>181.49</td>\n      <td>790</td>\n    </tr>\n    <tr>\n      <th>14</th>\n      <td>연제구</td>\n      <td>12</td>\n      <td>92535</td>\n      <td>210666</td>\n      <td>101381</td>\n      <td>109285</td>\n      <td>6.1</td>\n      <td>12.10</td>\n      <td>17410</td>\n      <td>12</td>\n      <td>...</td>\n      <td>12.10</td>\n      <td>17366</td>\n      <td>12</td>\n      <td>92694</td>\n      <td>209856</td>\n      <td>100913</td>\n      <td>108943</td>\n      <td>6.1</td>\n      <td>12.10</td>\n      <td>17343</td>\n    </tr>\n    <tr>\n      <th>15</th>\n      <td>수영구</td>\n      <td>10</td>\n      <td>84049</td>\n      <td>178576</td>\n      <td>84335</td>\n      <td>94241</td>\n      <td>5.2</td>\n      <td>10.21</td>\n      <td>17490</td>\n      <td>10</td>\n      <td>...</td>\n      <td>10.21</td>\n      <td>17492</td>\n      <td>10</td>\n      <td>84460</td>\n      <td>178441</td>\n      <td>84273</td>\n      <td>94168</td>\n      <td>5.2</td>\n      <td>10.21</td>\n      <td>17477</td>\n    </tr>\n    <tr>\n      <th>16</th>\n      <td>사상구</td>\n      <td>12</td>\n      <td>97419</td>\n      <td>217787</td>\n      <td>110221</td>\n      <td>107566</td>\n      <td>6.3</td>\n      <td>36.09</td>\n      <td>6035</td>\n      <td>12</td>\n      <td>...</td>\n      <td>36.10</td>\n      <td>6015</td>\n      <td>12</td>\n      <td>97687</td>\n      <td>216678</td>\n      <td>109640</td>\n      <td>107038</td>\n      <td>6.3</td>\n      <td>36.10</td>\n      <td>6002</td>\n    </tr>\n    <tr>\n      <th>17</th>\n      <td>기장군</td>\n      <td>5</td>\n      <td>74280</td>\n      <td>176013</td>\n      <td>87529</td>\n      <td>88484</td>\n      <td>5.1</td>\n      <td>218.30</td>\n      <td>806</td>\n      <td>5</td>\n      <td>...</td>\n      <td>218.30</td>\n      <td>809</td>\n      <td>5</td>\n      <td>75182</td>\n      <td>177505</td>\n      <td>88202</td>\n      <td>89303</td>\n      <td>5.2</td>\n      <td>218.30</td>\n      <td>813</td>\n    </tr>\n  </tbody>\n</table>\n<p>18 rows × 25 columns</p>\n</div>"
     },
     "metadata": {},
     "execution_count": 9
    }
   ],
   "source": [
    "test1 = pd.read_csv('./DATA/부산광역시_전체_세대_및_인구개황_20210328195505.csv')\n",
    "test1"
   ]
  },
  {
   "cell_type": "code",
   "execution_count": 10,
   "metadata": {
    "tags": []
   },
   "outputs": [
    {
     "output_type": "execute_result",
     "data": {
      "text/plain": [
       "          상가업소번호      상호명  지점명 상권업종대분류코드 상권업종대분류명 상권업종중분류코드   상권업종중분류명  \\\n",
       "0       17175332     정성밥상  NaN         Q       음식       Q01         한식   \n",
       "1       23206623      미광장  NaN         O       숙박       O02  모텔/여관/여인숙   \n",
       "2       20418637    BHC치킨  동래점         Q       음식       Q05     닭/오리요리   \n",
       "3       24659633      스텔라  NaN         D       소매       D05       의복의류   \n",
       "4       17174094     도란도란  NaN         Q       음식       Q01         한식   \n",
       "...          ...      ...  ...       ...      ...       ...        ...   \n",
       "141949  17221774    비에스마트  NaN         D       소매       D03      종합소매점   \n",
       "141950  17222038    행복한마트  NaN         D       소매       D03      종합소매점   \n",
       "141951  17211619  24시간의신화  NaN         Q       음식       Q01         한식   \n",
       "141952  17222726   현대헬스케어  NaN         D       소매       D10    건강/미용식품   \n",
       "141953  17208077    동안뷰티#  NaN         F    생활서비스       F01    이/미용/건강   \n",
       "\n",
       "       상권업종소분류코드   상권업종소분류명 표준산업분류코드  ...        건물관리번호    건물명  \\\n",
       "0         Q01A01  한식/백반/한정식   I56111  ...  2.635010e+24    NaN   \n",
       "1         O02A01  모텔/여관/여인숙   I55112  ...  2.611010e+24    NaN   \n",
       "2         Q05A08  후라이드/양념치킨   I56193  ...  2.626010e+24    NaN   \n",
       "3         D05A01       일반의류   G47416  ...  2.650010e+24  비치아파트   \n",
       "4         Q01A01  한식/백반/한정식   I56111  ...  2.623010e+24    NaN   \n",
       "...          ...        ...      ...  ...           ...    ...   \n",
       "141949    D03A02       수퍼마켓   G47121  ...  2.650010e+24     화광   \n",
       "141950    D03A02       수퍼마켓   G47121  ...  2.671030e+24    NaN   \n",
       "141951    Q01A01  한식/백반/한정식   I56111  ...  2.647010e+24    NaN   \n",
       "141952    D10A04     건강식품판매   G47216  ...  2.638010e+24    NaN   \n",
       "141953    F01A03    비만/피부관리      NaN  ...  2.638010e+24    NaN   \n",
       "\n",
       "                            도로명주소   구우편번호    신우편번호  동정보  층정보  호정보          경도  \\\n",
       "0           부산광역시 해운대구 해운대로 635-7  612819  48087.0  NaN  NaN  NaN  129.159641   \n",
       "1             부산광역시 중구 보수대로44번길 5  600074  48974.0  NaN  NaN  NaN  129.023668   \n",
       "2           부산광역시 동래구 동래로147번길 18  607020  47802.0  NaN  NaN  NaN  129.087156   \n",
       "3             부산광역시 수영구 광안해변로 100  613751  48305.0  NaN  NaN   20  129.115397   \n",
       "4       부산광역시 부산진구 가야대로482번길 29-3  614813  47327.0  NaN  NaN  NaN  129.024938   \n",
       "...                           ...     ...      ...  ...  ...  ...         ...   \n",
       "141949       부산광역시 수영구 망미로22번길 75  613825  48234.0  NaN  NaN  201  129.100584   \n",
       "141950      부산광역시 기장군 일광면 해빛5로 14  619912  46048.0  112  NaN  101  129.220741   \n",
       "141951          부산광역시 연제구 과정로 288  611816  47562.0  NaN  1.0  NaN  129.096058   \n",
       "141952         부산광역시 사하구 낙동대로 332  604816  49344.0  NaN  3.0  NaN  128.980941   \n",
       "141953      부산광역시 사하구 다대로277번길 13  604840  49509.0  NaN  2.0  NaN  128.978265   \n",
       "\n",
       "               위도  \n",
       "0       35.164474  \n",
       "1       35.100979  \n",
       "2       35.205267  \n",
       "3       35.143770  \n",
       "4       35.151645  \n",
       "...           ...  \n",
       "141949  35.170857  \n",
       "141950  35.260185  \n",
       "141951  35.188529  \n",
       "141952  35.100503  \n",
       "141953  35.077620  \n",
       "\n",
       "[141954 rows x 39 columns]"
      ],
      "text/html": "<div>\n<style scoped>\n    .dataframe tbody tr th:only-of-type {\n        vertical-align: middle;\n    }\n\n    .dataframe tbody tr th {\n        vertical-align: top;\n    }\n\n    .dataframe thead th {\n        text-align: right;\n    }\n</style>\n<table border=\"1\" class=\"dataframe\">\n  <thead>\n    <tr style=\"text-align: right;\">\n      <th></th>\n      <th>상가업소번호</th>\n      <th>상호명</th>\n      <th>지점명</th>\n      <th>상권업종대분류코드</th>\n      <th>상권업종대분류명</th>\n      <th>상권업종중분류코드</th>\n      <th>상권업종중분류명</th>\n      <th>상권업종소분류코드</th>\n      <th>상권업종소분류명</th>\n      <th>표준산업분류코드</th>\n      <th>...</th>\n      <th>건물관리번호</th>\n      <th>건물명</th>\n      <th>도로명주소</th>\n      <th>구우편번호</th>\n      <th>신우편번호</th>\n      <th>동정보</th>\n      <th>층정보</th>\n      <th>호정보</th>\n      <th>경도</th>\n      <th>위도</th>\n    </tr>\n  </thead>\n  <tbody>\n    <tr>\n      <th>0</th>\n      <td>17175332</td>\n      <td>정성밥상</td>\n      <td>NaN</td>\n      <td>Q</td>\n      <td>음식</td>\n      <td>Q01</td>\n      <td>한식</td>\n      <td>Q01A01</td>\n      <td>한식/백반/한정식</td>\n      <td>I56111</td>\n      <td>...</td>\n      <td>2.635010e+24</td>\n      <td>NaN</td>\n      <td>부산광역시 해운대구 해운대로 635-7</td>\n      <td>612819</td>\n      <td>48087.0</td>\n      <td>NaN</td>\n      <td>NaN</td>\n      <td>NaN</td>\n      <td>129.159641</td>\n      <td>35.164474</td>\n    </tr>\n    <tr>\n      <th>1</th>\n      <td>23206623</td>\n      <td>미광장</td>\n      <td>NaN</td>\n      <td>O</td>\n      <td>숙박</td>\n      <td>O02</td>\n      <td>모텔/여관/여인숙</td>\n      <td>O02A01</td>\n      <td>모텔/여관/여인숙</td>\n      <td>I55112</td>\n      <td>...</td>\n      <td>2.611010e+24</td>\n      <td>NaN</td>\n      <td>부산광역시 중구 보수대로44번길 5</td>\n      <td>600074</td>\n      <td>48974.0</td>\n      <td>NaN</td>\n      <td>NaN</td>\n      <td>NaN</td>\n      <td>129.023668</td>\n      <td>35.100979</td>\n    </tr>\n    <tr>\n      <th>2</th>\n      <td>20418637</td>\n      <td>BHC치킨</td>\n      <td>동래점</td>\n      <td>Q</td>\n      <td>음식</td>\n      <td>Q05</td>\n      <td>닭/오리요리</td>\n      <td>Q05A08</td>\n      <td>후라이드/양념치킨</td>\n      <td>I56193</td>\n      <td>...</td>\n      <td>2.626010e+24</td>\n      <td>NaN</td>\n      <td>부산광역시 동래구 동래로147번길 18</td>\n      <td>607020</td>\n      <td>47802.0</td>\n      <td>NaN</td>\n      <td>NaN</td>\n      <td>NaN</td>\n      <td>129.087156</td>\n      <td>35.205267</td>\n    </tr>\n    <tr>\n      <th>3</th>\n      <td>24659633</td>\n      <td>스텔라</td>\n      <td>NaN</td>\n      <td>D</td>\n      <td>소매</td>\n      <td>D05</td>\n      <td>의복의류</td>\n      <td>D05A01</td>\n      <td>일반의류</td>\n      <td>G47416</td>\n      <td>...</td>\n      <td>2.650010e+24</td>\n      <td>비치아파트</td>\n      <td>부산광역시 수영구 광안해변로 100</td>\n      <td>613751</td>\n      <td>48305.0</td>\n      <td>NaN</td>\n      <td>NaN</td>\n      <td>20</td>\n      <td>129.115397</td>\n      <td>35.143770</td>\n    </tr>\n    <tr>\n      <th>4</th>\n      <td>17174094</td>\n      <td>도란도란</td>\n      <td>NaN</td>\n      <td>Q</td>\n      <td>음식</td>\n      <td>Q01</td>\n      <td>한식</td>\n      <td>Q01A01</td>\n      <td>한식/백반/한정식</td>\n      <td>I56111</td>\n      <td>...</td>\n      <td>2.623010e+24</td>\n      <td>NaN</td>\n      <td>부산광역시 부산진구 가야대로482번길 29-3</td>\n      <td>614813</td>\n      <td>47327.0</td>\n      <td>NaN</td>\n      <td>NaN</td>\n      <td>NaN</td>\n      <td>129.024938</td>\n      <td>35.151645</td>\n    </tr>\n    <tr>\n      <th>...</th>\n      <td>...</td>\n      <td>...</td>\n      <td>...</td>\n      <td>...</td>\n      <td>...</td>\n      <td>...</td>\n      <td>...</td>\n      <td>...</td>\n      <td>...</td>\n      <td>...</td>\n      <td>...</td>\n      <td>...</td>\n      <td>...</td>\n      <td>...</td>\n      <td>...</td>\n      <td>...</td>\n      <td>...</td>\n      <td>...</td>\n      <td>...</td>\n      <td>...</td>\n      <td>...</td>\n    </tr>\n    <tr>\n      <th>141949</th>\n      <td>17221774</td>\n      <td>비에스마트</td>\n      <td>NaN</td>\n      <td>D</td>\n      <td>소매</td>\n      <td>D03</td>\n      <td>종합소매점</td>\n      <td>D03A02</td>\n      <td>수퍼마켓</td>\n      <td>G47121</td>\n      <td>...</td>\n      <td>2.650010e+24</td>\n      <td>화광</td>\n      <td>부산광역시 수영구 망미로22번길 75</td>\n      <td>613825</td>\n      <td>48234.0</td>\n      <td>NaN</td>\n      <td>NaN</td>\n      <td>201</td>\n      <td>129.100584</td>\n      <td>35.170857</td>\n    </tr>\n    <tr>\n      <th>141950</th>\n      <td>17222038</td>\n      <td>행복한마트</td>\n      <td>NaN</td>\n      <td>D</td>\n      <td>소매</td>\n      <td>D03</td>\n      <td>종합소매점</td>\n      <td>D03A02</td>\n      <td>수퍼마켓</td>\n      <td>G47121</td>\n      <td>...</td>\n      <td>2.671030e+24</td>\n      <td>NaN</td>\n      <td>부산광역시 기장군 일광면 해빛5로 14</td>\n      <td>619912</td>\n      <td>46048.0</td>\n      <td>112</td>\n      <td>NaN</td>\n      <td>101</td>\n      <td>129.220741</td>\n      <td>35.260185</td>\n    </tr>\n    <tr>\n      <th>141951</th>\n      <td>17211619</td>\n      <td>24시간의신화</td>\n      <td>NaN</td>\n      <td>Q</td>\n      <td>음식</td>\n      <td>Q01</td>\n      <td>한식</td>\n      <td>Q01A01</td>\n      <td>한식/백반/한정식</td>\n      <td>I56111</td>\n      <td>...</td>\n      <td>2.647010e+24</td>\n      <td>NaN</td>\n      <td>부산광역시 연제구 과정로 288</td>\n      <td>611816</td>\n      <td>47562.0</td>\n      <td>NaN</td>\n      <td>1.0</td>\n      <td>NaN</td>\n      <td>129.096058</td>\n      <td>35.188529</td>\n    </tr>\n    <tr>\n      <th>141952</th>\n      <td>17222726</td>\n      <td>현대헬스케어</td>\n      <td>NaN</td>\n      <td>D</td>\n      <td>소매</td>\n      <td>D10</td>\n      <td>건강/미용식품</td>\n      <td>D10A04</td>\n      <td>건강식품판매</td>\n      <td>G47216</td>\n      <td>...</td>\n      <td>2.638010e+24</td>\n      <td>NaN</td>\n      <td>부산광역시 사하구 낙동대로 332</td>\n      <td>604816</td>\n      <td>49344.0</td>\n      <td>NaN</td>\n      <td>3.0</td>\n      <td>NaN</td>\n      <td>128.980941</td>\n      <td>35.100503</td>\n    </tr>\n    <tr>\n      <th>141953</th>\n      <td>17208077</td>\n      <td>동안뷰티#</td>\n      <td>NaN</td>\n      <td>F</td>\n      <td>생활서비스</td>\n      <td>F01</td>\n      <td>이/미용/건강</td>\n      <td>F01A03</td>\n      <td>비만/피부관리</td>\n      <td>NaN</td>\n      <td>...</td>\n      <td>2.638010e+24</td>\n      <td>NaN</td>\n      <td>부산광역시 사하구 다대로277번길 13</td>\n      <td>604840</td>\n      <td>49509.0</td>\n      <td>NaN</td>\n      <td>2.0</td>\n      <td>NaN</td>\n      <td>128.978265</td>\n      <td>35.077620</td>\n    </tr>\n  </tbody>\n</table>\n<p>141954 rows × 39 columns</p>\n</div>"
     },
     "metadata": {},
     "execution_count": 10
    }
   ],
   "source": [
    "test2 = pd.read_csv('./DATA/소상공인시장진흥공단_상가(상권)정보_부산_202012.csv', error_bad_lines=False)\n",
    "test2"
   ]
  },
  {
   "cell_type": "code",
   "execution_count": 11,
   "metadata": {},
   "outputs": [
    {
     "output_type": "stream",
     "name": "stdout",
     "text": [
      "<class 'pandas.core.frame.DataFrame'>\nRangeIndex: 141954 entries, 0 to 141953\nData columns (total 39 columns):\n #   Column     Non-Null Count   Dtype  \n---  ------     --------------   -----  \n 0   상가업소번호     141954 non-null  int64  \n 1   상호명        141953 non-null  object \n 2   지점명        19568 non-null   object \n 3   상권업종대분류코드  141954 non-null  object \n 4   상권업종대분류명   141954 non-null  object \n 5   상권업종중분류코드  141954 non-null  object \n 6   상권업종중분류명   141954 non-null  object \n 7   상권업종소분류코드  141954 non-null  object \n 8   상권업종소분류명   141954 non-null  object \n 9   표준산업분류코드   133337 non-null  object \n 10  표준산업분류명    133337 non-null  object \n 11  시도코드       141954 non-null  int64  \n 12  시도명        141954 non-null  object \n 13  시군구코드      141954 non-null  int64  \n 14  시군구명       141954 non-null  object \n 15  행정동코드      141954 non-null  int64  \n 16  행정동명       141770 non-null  object \n 17  법정동코드      141954 non-null  int64  \n 18  법정동명       141954 non-null  object \n 19  지번코드       141954 non-null  float64\n 20  대지구분코드     141954 non-null  int64  \n 21  대지구분명      141954 non-null  object \n 22  지번본번지      141954 non-null  int64  \n 23  지번부번지      121340 non-null  float64\n 24  지번주소       141954 non-null  object \n 25  도로명코드      141954 non-null  float64\n 26  도로명        141954 non-null  object \n 27  건물본번지      141954 non-null  int64  \n 28  건물부번지      20587 non-null   float64\n 29  건물관리번호     141954 non-null  float64\n 30  건물명        58116 non-null   object \n 31  도로명주소      141954 non-null  object \n 32  구우편번호      141954 non-null  int64  \n 33  신우편번호      141947 non-null  float64\n 34  동정보        16059 non-null   object \n 35  층정보        58184 non-null   float64\n 36  호정보        23328 non-null   object \n 37  경도         141954 non-null  float64\n 38  위도         141954 non-null  float64\ndtypes: float64(9), int64(9), object(21)\nmemory usage: 42.2+ MB\n"
     ]
    }
   ],
   "source": [
    "test2.info()"
   ]
  },
  {
   "cell_type": "code",
   "execution_count": 8,
   "metadata": {},
   "outputs": [
    {
     "output_type": "execute_result",
     "data": {
      "text/plain": [
       "                        산업분류별    행정구역별     2015    2015.1    2015.2   2015.3  \\\n",
       "0                       산업분류별    행정구역별     사업체수      종사자수         남        여   \n",
       "1                         전산업       전국  3874156  20889239  12097073  8792166   \n",
       "2                         전산업    서울특별시   820658   5108828   2887719  2221109   \n",
       "3                         전산업    부산광역시   278850   1371843    767956   603887   \n",
       "4                         전산업    대구광역시   200069    895517    497786   397731   \n",
       "..                        ...      ...      ...       ...       ...      ...   \n",
       "356  협회 및 단체, 수리 및 기타 개인 서비스업     전라북도    17549     34513     18682    15831   \n",
       "357  협회 및 단체, 수리 및 기타 개인 서비스업     전라남도    17031     31994     17259    14735   \n",
       "358  협회 및 단체, 수리 및 기타 개인 서비스업     경상북도    23631     46649     23402    23247   \n",
       "359  협회 및 단체, 수리 및 기타 개인 서비스업     경상남도    26569     55921     26935    28986   \n",
       "360  협회 및 단체, 수리 및 기타 개인 서비스업  제주특별자치도     5156     11980      5938     6042   \n",
       "\n",
       "         2015.4      2015.5     2015.6  \n",
       "0           매출액        영업비용       영업이익  \n",
       "1    5311196484  4961774627  349421857  \n",
       "2    1622426034  1539052038   83373996  \n",
       "3     268724479   248118453   20606026  \n",
       "4     162627278   150908525   11718753  \n",
       "..          ...         ...        ...  \n",
       "356     1589537     1339445     250092  \n",
       "357     1393416     1155169     238247  \n",
       "358     1949291     1589070     360221  \n",
       "359     2608817     2170965     437852  \n",
       "360      563806      475639      88167  \n",
       "\n",
       "[361 rows x 9 columns]"
      ],
      "text/html": "<div>\n<style scoped>\n    .dataframe tbody tr th:only-of-type {\n        vertical-align: middle;\n    }\n\n    .dataframe tbody tr th {\n        vertical-align: top;\n    }\n\n    .dataframe thead th {\n        text-align: right;\n    }\n</style>\n<table border=\"1\" class=\"dataframe\">\n  <thead>\n    <tr style=\"text-align: right;\">\n      <th></th>\n      <th>산업분류별</th>\n      <th>행정구역별</th>\n      <th>2015</th>\n      <th>2015.1</th>\n      <th>2015.2</th>\n      <th>2015.3</th>\n      <th>2015.4</th>\n      <th>2015.5</th>\n      <th>2015.6</th>\n    </tr>\n  </thead>\n  <tbody>\n    <tr>\n      <th>0</th>\n      <td>산업분류별</td>\n      <td>행정구역별</td>\n      <td>사업체수</td>\n      <td>종사자수</td>\n      <td>남</td>\n      <td>여</td>\n      <td>매출액</td>\n      <td>영업비용</td>\n      <td>영업이익</td>\n    </tr>\n    <tr>\n      <th>1</th>\n      <td>전산업</td>\n      <td>전국</td>\n      <td>3874156</td>\n      <td>20889239</td>\n      <td>12097073</td>\n      <td>8792166</td>\n      <td>5311196484</td>\n      <td>4961774627</td>\n      <td>349421857</td>\n    </tr>\n    <tr>\n      <th>2</th>\n      <td>전산업</td>\n      <td>서울특별시</td>\n      <td>820658</td>\n      <td>5108828</td>\n      <td>2887719</td>\n      <td>2221109</td>\n      <td>1622426034</td>\n      <td>1539052038</td>\n      <td>83373996</td>\n    </tr>\n    <tr>\n      <th>3</th>\n      <td>전산업</td>\n      <td>부산광역시</td>\n      <td>278850</td>\n      <td>1371843</td>\n      <td>767956</td>\n      <td>603887</td>\n      <td>268724479</td>\n      <td>248118453</td>\n      <td>20606026</td>\n    </tr>\n    <tr>\n      <th>4</th>\n      <td>전산업</td>\n      <td>대구광역시</td>\n      <td>200069</td>\n      <td>895517</td>\n      <td>497786</td>\n      <td>397731</td>\n      <td>162627278</td>\n      <td>150908525</td>\n      <td>11718753</td>\n    </tr>\n    <tr>\n      <th>...</th>\n      <td>...</td>\n      <td>...</td>\n      <td>...</td>\n      <td>...</td>\n      <td>...</td>\n      <td>...</td>\n      <td>...</td>\n      <td>...</td>\n      <td>...</td>\n    </tr>\n    <tr>\n      <th>356</th>\n      <td>협회 및 단체, 수리 및 기타 개인 서비스업</td>\n      <td>전라북도</td>\n      <td>17549</td>\n      <td>34513</td>\n      <td>18682</td>\n      <td>15831</td>\n      <td>1589537</td>\n      <td>1339445</td>\n      <td>250092</td>\n    </tr>\n    <tr>\n      <th>357</th>\n      <td>협회 및 단체, 수리 및 기타 개인 서비스업</td>\n      <td>전라남도</td>\n      <td>17031</td>\n      <td>31994</td>\n      <td>17259</td>\n      <td>14735</td>\n      <td>1393416</td>\n      <td>1155169</td>\n      <td>238247</td>\n    </tr>\n    <tr>\n      <th>358</th>\n      <td>협회 및 단체, 수리 및 기타 개인 서비스업</td>\n      <td>경상북도</td>\n      <td>23631</td>\n      <td>46649</td>\n      <td>23402</td>\n      <td>23247</td>\n      <td>1949291</td>\n      <td>1589070</td>\n      <td>360221</td>\n    </tr>\n    <tr>\n      <th>359</th>\n      <td>협회 및 단체, 수리 및 기타 개인 서비스업</td>\n      <td>경상남도</td>\n      <td>26569</td>\n      <td>55921</td>\n      <td>26935</td>\n      <td>28986</td>\n      <td>2608817</td>\n      <td>2170965</td>\n      <td>437852</td>\n    </tr>\n    <tr>\n      <th>360</th>\n      <td>협회 및 단체, 수리 및 기타 개인 서비스업</td>\n      <td>제주특별자치도</td>\n      <td>5156</td>\n      <td>11980</td>\n      <td>5938</td>\n      <td>6042</td>\n      <td>563806</td>\n      <td>475639</td>\n      <td>88167</td>\n    </tr>\n  </tbody>\n</table>\n<p>361 rows × 9 columns</p>\n</div>"
     },
     "metadata": {},
     "execution_count": 8
    }
   ],
   "source": [
    "test3 = pd.read_csv('./DATA/읍면동별_산업대분류별_총괄_20210328195922.csv')\n",
    "test3"
   ]
  },
  {
   "cell_type": "code",
   "execution_count": 12,
   "metadata": {},
   "outputs": [
    {
     "output_type": "stream",
     "name": "stdout",
     "text": [
      "<class 'pandas.core.frame.DataFrame'>\nRangeIndex: 361 entries, 0 to 360\nData columns (total 9 columns):\n #   Column  Non-Null Count  Dtype \n---  ------  --------------  ----- \n 0   산업분류별   361 non-null    object\n 1   행정구역별   361 non-null    object\n 2   2015    361 non-null    object\n 3   2015.1  361 non-null    object\n 4   2015.2  361 non-null    object\n 5   2015.3  361 non-null    object\n 6   2015.4  361 non-null    object\n 7   2015.5  361 non-null    object\n 8   2015.6  361 non-null    object\ndtypes: object(9)\nmemory usage: 25.5+ KB\n"
     ]
    }
   ],
   "source": [
    "test3.info()"
   ]
  },
  {
   "cell_type": "code",
   "execution_count": 12,
   "metadata": {},
   "outputs": [
    {
     "output_type": "execute_result",
     "data": {
      "text/plain": [
       "                   산업대분류별(1)      2016    2016.1      2016.2      2016.3  \\\n",
       "0                  산업대분류별(1)        중구        중구          중구          중구   \n",
       "1                  산업대분류별(1)       중앙동       중앙동         중앙동         중앙동   \n",
       "2                  산업대분류별(1)  사업체수 (개)  종사자수 (명)  남자종사자수 (명)  여자종사자수 (명)   \n",
       "3                      전체 산업      4827     39632       25072       14560   \n",
       "4                농업, 임업 및 어업         5       459         439          20   \n",
       "5                         광업         1        20          17           3   \n",
       "6                        제조업        88       209         143          66   \n",
       "7          전기, 가스, 증기 및 수도사업         -         -           -           -   \n",
       "8   하수·폐기물 처리, 원료재생 및 환경 복원업         8       119         102          17   \n",
       "9                        건설업        38      1153         948         205   \n",
       "10                  도매 및 소매업      1321      4395        1969        2426   \n",
       "11                       운수업      1747     18932       14069        4863   \n",
       "12                 숙박 및 음식점업       564      2040         627        1413   \n",
       "13     출판, 영상, 방송통신 및 정보서비스업        47       700         510         190   \n",
       "14                  금융 및 보험업       128      1814         816         998   \n",
       "15                부동산업 및 임대업       145       431         305         126   \n",
       "16          전문, 과학 및 기술 서비스업       151      1752        1379         373   \n",
       "17         사업시설관리 및 사업지원서비스업       244      5001        2387        2614   \n",
       "18        공공행정, 국방 및 사회보장 행정        17      1300         857         443   \n",
       "19                    교육서비스업        32       125          47          78   \n",
       "20           보건업 및 사회복지 서비스업        25       464          85         379   \n",
       "21        예술, 스포츠 및 여가관련서비스업        59       181          75         106   \n",
       "22   협회 및 단체, 수리 및 기타 개인서비스업       207       537         297         240   \n",
       "\n",
       "      2016.4    2016.5      2016.6      2016.7    2016.8  ...     2016.86  \\\n",
       "0         중구        중구          중구          중구        중구  ...          서구   \n",
       "1        동광동       동광동         동광동         동광동       대청동  ...       남부민2동   \n",
       "2   사업체수 (개)  종사자수 (명)  남자종사자수 (명)  여자종사자수 (명)  사업체수 (개)  ...  남자종사자수 (명)   \n",
       "3        865      3301        2106        1195       681  ...        1247   \n",
       "4          8       474         458          16         -  ...         108   \n",
       "5          -         -           -           -         -  ...           -   \n",
       "6        103       196         133          63        74  ...         198   \n",
       "7          -         -           -           -         1  ...           -   \n",
       "8          -         -           -           -         -  ...           -   \n",
       "9         15        31          27           4         4  ...          27   \n",
       "10       199       456         253         203       186  ...         424   \n",
       "11        73       642         523         119        42  ...         129   \n",
       "12       182       553         203         350        98  ...          40   \n",
       "13        12        30          11          19         6  ...           1   \n",
       "14        21       160          90          70         8  ...           9   \n",
       "15        23        72          50          22        29  ...          21   \n",
       "16        52       110          52          58        26  ...          12   \n",
       "17        36       264         178          86        11  ...          13   \n",
       "18         1        10           4           6         5  ...           8   \n",
       "19        10        19          10           9        37  ...          89   \n",
       "20        10        84          26          58        46  ...          29   \n",
       "21        36        45          23          22         7  ...           9   \n",
       "22        84       155          65          90       101  ...         130   \n",
       "\n",
       "       2016.87   2016.88   2016.89     2016.90     2016.91   2016.92  \\\n",
       "0           서구        동구        동구          동구          동구        동구   \n",
       "1        남부민2동      초량1동      초량1동        초량1동        초량1동      초량2동   \n",
       "2   여자종사자수 (명)  사업체수 (개)  종사자수 (명)  남자종사자수 (명)  여자종사자수 (명)  사업체수 (개)   \n",
       "3         1204      1157      9424        5771        3653       977   \n",
       "4            8         2        19          14           5         -   \n",
       "5            -         -         -           -           -         -   \n",
       "6          335        16        64          42          22        31   \n",
       "7            -         -         -           -           -         -   \n",
       "8            -         -         -           -           -         -   \n",
       "9            6        30       261         216          45        12   \n",
       "10         288       260      1034         686         348       263   \n",
       "11          33       221      2285        1889         396        46   \n",
       "12         101       189       701         189         512       358   \n",
       "13           2        15        84          62          22         2   \n",
       "14           8        64      1479         346        1133        17   \n",
       "15           8        60       285         169         116        27   \n",
       "16          12        56       519         351         168        14   \n",
       "17          12        86      1865        1486         379        14   \n",
       "18          11         2        17          11           6         3   \n",
       "19         171        17       118          43          75        13   \n",
       "20          90        19       366          66         300        39   \n",
       "21           8        13        23          10          13        23   \n",
       "22         111       107       304         191         113       115   \n",
       "\n",
       "     2016.93     2016.94     2016.95  \n",
       "0         동구          동구          동구  \n",
       "1       초량2동        초량2동        초량2동  \n",
       "2   종사자수 (명)  남자종사자수 (명)  여자종사자수 (명)  \n",
       "3       2818        1291        1527  \n",
       "4          -           -           -  \n",
       "5          -           -           -  \n",
       "6         75          37          38  \n",
       "7          -           -           -  \n",
       "8          -           -           -  \n",
       "9         85          74          11  \n",
       "10       642         334         308  \n",
       "11        69          55          14  \n",
       "12       984         273         711  \n",
       "13         8           3           5  \n",
       "14        81          46          35  \n",
       "15        56          35          21  \n",
       "16        75          40          35  \n",
       "17        26          17           9  \n",
       "18       212         176          36  \n",
       "19        26          10          16  \n",
       "20       247          96         151  \n",
       "21        51          28          23  \n",
       "22       181          67         114  \n",
       "\n",
       "[23 rows x 97 columns]"
      ],
      "text/html": "<div>\n<style scoped>\n    .dataframe tbody tr th:only-of-type {\n        vertical-align: middle;\n    }\n\n    .dataframe tbody tr th {\n        vertical-align: top;\n    }\n\n    .dataframe thead th {\n        text-align: right;\n    }\n</style>\n<table border=\"1\" class=\"dataframe\">\n  <thead>\n    <tr style=\"text-align: right;\">\n      <th></th>\n      <th>산업대분류별(1)</th>\n      <th>2016</th>\n      <th>2016.1</th>\n      <th>2016.2</th>\n      <th>2016.3</th>\n      <th>2016.4</th>\n      <th>2016.5</th>\n      <th>2016.6</th>\n      <th>2016.7</th>\n      <th>2016.8</th>\n      <th>...</th>\n      <th>2016.86</th>\n      <th>2016.87</th>\n      <th>2016.88</th>\n      <th>2016.89</th>\n      <th>2016.90</th>\n      <th>2016.91</th>\n      <th>2016.92</th>\n      <th>2016.93</th>\n      <th>2016.94</th>\n      <th>2016.95</th>\n    </tr>\n  </thead>\n  <tbody>\n    <tr>\n      <th>0</th>\n      <td>산업대분류별(1)</td>\n      <td>중구</td>\n      <td>중구</td>\n      <td>중구</td>\n      <td>중구</td>\n      <td>중구</td>\n      <td>중구</td>\n      <td>중구</td>\n      <td>중구</td>\n      <td>중구</td>\n      <td>...</td>\n      <td>서구</td>\n      <td>서구</td>\n      <td>동구</td>\n      <td>동구</td>\n      <td>동구</td>\n      <td>동구</td>\n      <td>동구</td>\n      <td>동구</td>\n      <td>동구</td>\n      <td>동구</td>\n    </tr>\n    <tr>\n      <th>1</th>\n      <td>산업대분류별(1)</td>\n      <td>중앙동</td>\n      <td>중앙동</td>\n      <td>중앙동</td>\n      <td>중앙동</td>\n      <td>동광동</td>\n      <td>동광동</td>\n      <td>동광동</td>\n      <td>동광동</td>\n      <td>대청동</td>\n      <td>...</td>\n      <td>남부민2동</td>\n      <td>남부민2동</td>\n      <td>초량1동</td>\n      <td>초량1동</td>\n      <td>초량1동</td>\n      <td>초량1동</td>\n      <td>초량2동</td>\n      <td>초량2동</td>\n      <td>초량2동</td>\n      <td>초량2동</td>\n    </tr>\n    <tr>\n      <th>2</th>\n      <td>산업대분류별(1)</td>\n      <td>사업체수 (개)</td>\n      <td>종사자수 (명)</td>\n      <td>남자종사자수 (명)</td>\n      <td>여자종사자수 (명)</td>\n      <td>사업체수 (개)</td>\n      <td>종사자수 (명)</td>\n      <td>남자종사자수 (명)</td>\n      <td>여자종사자수 (명)</td>\n      <td>사업체수 (개)</td>\n      <td>...</td>\n      <td>남자종사자수 (명)</td>\n      <td>여자종사자수 (명)</td>\n      <td>사업체수 (개)</td>\n      <td>종사자수 (명)</td>\n      <td>남자종사자수 (명)</td>\n      <td>여자종사자수 (명)</td>\n      <td>사업체수 (개)</td>\n      <td>종사자수 (명)</td>\n      <td>남자종사자수 (명)</td>\n      <td>여자종사자수 (명)</td>\n    </tr>\n    <tr>\n      <th>3</th>\n      <td>전체 산업</td>\n      <td>4827</td>\n      <td>39632</td>\n      <td>25072</td>\n      <td>14560</td>\n      <td>865</td>\n      <td>3301</td>\n      <td>2106</td>\n      <td>1195</td>\n      <td>681</td>\n      <td>...</td>\n      <td>1247</td>\n      <td>1204</td>\n      <td>1157</td>\n      <td>9424</td>\n      <td>5771</td>\n      <td>3653</td>\n      <td>977</td>\n      <td>2818</td>\n      <td>1291</td>\n      <td>1527</td>\n    </tr>\n    <tr>\n      <th>4</th>\n      <td>농업, 임업 및 어업</td>\n      <td>5</td>\n      <td>459</td>\n      <td>439</td>\n      <td>20</td>\n      <td>8</td>\n      <td>474</td>\n      <td>458</td>\n      <td>16</td>\n      <td>-</td>\n      <td>...</td>\n      <td>108</td>\n      <td>8</td>\n      <td>2</td>\n      <td>19</td>\n      <td>14</td>\n      <td>5</td>\n      <td>-</td>\n      <td>-</td>\n      <td>-</td>\n      <td>-</td>\n    </tr>\n    <tr>\n      <th>5</th>\n      <td>광업</td>\n      <td>1</td>\n      <td>20</td>\n      <td>17</td>\n      <td>3</td>\n      <td>-</td>\n      <td>-</td>\n      <td>-</td>\n      <td>-</td>\n      <td>-</td>\n      <td>...</td>\n      <td>-</td>\n      <td>-</td>\n      <td>-</td>\n      <td>-</td>\n      <td>-</td>\n      <td>-</td>\n      <td>-</td>\n      <td>-</td>\n      <td>-</td>\n      <td>-</td>\n    </tr>\n    <tr>\n      <th>6</th>\n      <td>제조업</td>\n      <td>88</td>\n      <td>209</td>\n      <td>143</td>\n      <td>66</td>\n      <td>103</td>\n      <td>196</td>\n      <td>133</td>\n      <td>63</td>\n      <td>74</td>\n      <td>...</td>\n      <td>198</td>\n      <td>335</td>\n      <td>16</td>\n      <td>64</td>\n      <td>42</td>\n      <td>22</td>\n      <td>31</td>\n      <td>75</td>\n      <td>37</td>\n      <td>38</td>\n    </tr>\n    <tr>\n      <th>7</th>\n      <td>전기, 가스, 증기 및 수도사업</td>\n      <td>-</td>\n      <td>-</td>\n      <td>-</td>\n      <td>-</td>\n      <td>-</td>\n      <td>-</td>\n      <td>-</td>\n      <td>-</td>\n      <td>1</td>\n      <td>...</td>\n      <td>-</td>\n      <td>-</td>\n      <td>-</td>\n      <td>-</td>\n      <td>-</td>\n      <td>-</td>\n      <td>-</td>\n      <td>-</td>\n      <td>-</td>\n      <td>-</td>\n    </tr>\n    <tr>\n      <th>8</th>\n      <td>하수·폐기물 처리, 원료재생 및 환경 복원업</td>\n      <td>8</td>\n      <td>119</td>\n      <td>102</td>\n      <td>17</td>\n      <td>-</td>\n      <td>-</td>\n      <td>-</td>\n      <td>-</td>\n      <td>-</td>\n      <td>...</td>\n      <td>-</td>\n      <td>-</td>\n      <td>-</td>\n      <td>-</td>\n      <td>-</td>\n      <td>-</td>\n      <td>-</td>\n      <td>-</td>\n      <td>-</td>\n      <td>-</td>\n    </tr>\n    <tr>\n      <th>9</th>\n      <td>건설업</td>\n      <td>38</td>\n      <td>1153</td>\n      <td>948</td>\n      <td>205</td>\n      <td>15</td>\n      <td>31</td>\n      <td>27</td>\n      <td>4</td>\n      <td>4</td>\n      <td>...</td>\n      <td>27</td>\n      <td>6</td>\n      <td>30</td>\n      <td>261</td>\n      <td>216</td>\n      <td>45</td>\n      <td>12</td>\n      <td>85</td>\n      <td>74</td>\n      <td>11</td>\n    </tr>\n    <tr>\n      <th>10</th>\n      <td>도매 및 소매업</td>\n      <td>1321</td>\n      <td>4395</td>\n      <td>1969</td>\n      <td>2426</td>\n      <td>199</td>\n      <td>456</td>\n      <td>253</td>\n      <td>203</td>\n      <td>186</td>\n      <td>...</td>\n      <td>424</td>\n      <td>288</td>\n      <td>260</td>\n      <td>1034</td>\n      <td>686</td>\n      <td>348</td>\n      <td>263</td>\n      <td>642</td>\n      <td>334</td>\n      <td>308</td>\n    </tr>\n    <tr>\n      <th>11</th>\n      <td>운수업</td>\n      <td>1747</td>\n      <td>18932</td>\n      <td>14069</td>\n      <td>4863</td>\n      <td>73</td>\n      <td>642</td>\n      <td>523</td>\n      <td>119</td>\n      <td>42</td>\n      <td>...</td>\n      <td>129</td>\n      <td>33</td>\n      <td>221</td>\n      <td>2285</td>\n      <td>1889</td>\n      <td>396</td>\n      <td>46</td>\n      <td>69</td>\n      <td>55</td>\n      <td>14</td>\n    </tr>\n    <tr>\n      <th>12</th>\n      <td>숙박 및 음식점업</td>\n      <td>564</td>\n      <td>2040</td>\n      <td>627</td>\n      <td>1413</td>\n      <td>182</td>\n      <td>553</td>\n      <td>203</td>\n      <td>350</td>\n      <td>98</td>\n      <td>...</td>\n      <td>40</td>\n      <td>101</td>\n      <td>189</td>\n      <td>701</td>\n      <td>189</td>\n      <td>512</td>\n      <td>358</td>\n      <td>984</td>\n      <td>273</td>\n      <td>711</td>\n    </tr>\n    <tr>\n      <th>13</th>\n      <td>출판, 영상, 방송통신 및 정보서비스업</td>\n      <td>47</td>\n      <td>700</td>\n      <td>510</td>\n      <td>190</td>\n      <td>12</td>\n      <td>30</td>\n      <td>11</td>\n      <td>19</td>\n      <td>6</td>\n      <td>...</td>\n      <td>1</td>\n      <td>2</td>\n      <td>15</td>\n      <td>84</td>\n      <td>62</td>\n      <td>22</td>\n      <td>2</td>\n      <td>8</td>\n      <td>3</td>\n      <td>5</td>\n    </tr>\n    <tr>\n      <th>14</th>\n      <td>금융 및 보험업</td>\n      <td>128</td>\n      <td>1814</td>\n      <td>816</td>\n      <td>998</td>\n      <td>21</td>\n      <td>160</td>\n      <td>90</td>\n      <td>70</td>\n      <td>8</td>\n      <td>...</td>\n      <td>9</td>\n      <td>8</td>\n      <td>64</td>\n      <td>1479</td>\n      <td>346</td>\n      <td>1133</td>\n      <td>17</td>\n      <td>81</td>\n      <td>46</td>\n      <td>35</td>\n    </tr>\n    <tr>\n      <th>15</th>\n      <td>부동산업 및 임대업</td>\n      <td>145</td>\n      <td>431</td>\n      <td>305</td>\n      <td>126</td>\n      <td>23</td>\n      <td>72</td>\n      <td>50</td>\n      <td>22</td>\n      <td>29</td>\n      <td>...</td>\n      <td>21</td>\n      <td>8</td>\n      <td>60</td>\n      <td>285</td>\n      <td>169</td>\n      <td>116</td>\n      <td>27</td>\n      <td>56</td>\n      <td>35</td>\n      <td>21</td>\n    </tr>\n    <tr>\n      <th>16</th>\n      <td>전문, 과학 및 기술 서비스업</td>\n      <td>151</td>\n      <td>1752</td>\n      <td>1379</td>\n      <td>373</td>\n      <td>52</td>\n      <td>110</td>\n      <td>52</td>\n      <td>58</td>\n      <td>26</td>\n      <td>...</td>\n      <td>12</td>\n      <td>12</td>\n      <td>56</td>\n      <td>519</td>\n      <td>351</td>\n      <td>168</td>\n      <td>14</td>\n      <td>75</td>\n      <td>40</td>\n      <td>35</td>\n    </tr>\n    <tr>\n      <th>17</th>\n      <td>사업시설관리 및 사업지원서비스업</td>\n      <td>244</td>\n      <td>5001</td>\n      <td>2387</td>\n      <td>2614</td>\n      <td>36</td>\n      <td>264</td>\n      <td>178</td>\n      <td>86</td>\n      <td>11</td>\n      <td>...</td>\n      <td>13</td>\n      <td>12</td>\n      <td>86</td>\n      <td>1865</td>\n      <td>1486</td>\n      <td>379</td>\n      <td>14</td>\n      <td>26</td>\n      <td>17</td>\n      <td>9</td>\n    </tr>\n    <tr>\n      <th>18</th>\n      <td>공공행정, 국방 및 사회보장 행정</td>\n      <td>17</td>\n      <td>1300</td>\n      <td>857</td>\n      <td>443</td>\n      <td>1</td>\n      <td>10</td>\n      <td>4</td>\n      <td>6</td>\n      <td>5</td>\n      <td>...</td>\n      <td>8</td>\n      <td>11</td>\n      <td>2</td>\n      <td>17</td>\n      <td>11</td>\n      <td>6</td>\n      <td>3</td>\n      <td>212</td>\n      <td>176</td>\n      <td>36</td>\n    </tr>\n    <tr>\n      <th>19</th>\n      <td>교육서비스업</td>\n      <td>32</td>\n      <td>125</td>\n      <td>47</td>\n      <td>78</td>\n      <td>10</td>\n      <td>19</td>\n      <td>10</td>\n      <td>9</td>\n      <td>37</td>\n      <td>...</td>\n      <td>89</td>\n      <td>171</td>\n      <td>17</td>\n      <td>118</td>\n      <td>43</td>\n      <td>75</td>\n      <td>13</td>\n      <td>26</td>\n      <td>10</td>\n      <td>16</td>\n    </tr>\n    <tr>\n      <th>20</th>\n      <td>보건업 및 사회복지 서비스업</td>\n      <td>25</td>\n      <td>464</td>\n      <td>85</td>\n      <td>379</td>\n      <td>10</td>\n      <td>84</td>\n      <td>26</td>\n      <td>58</td>\n      <td>46</td>\n      <td>...</td>\n      <td>29</td>\n      <td>90</td>\n      <td>19</td>\n      <td>366</td>\n      <td>66</td>\n      <td>300</td>\n      <td>39</td>\n      <td>247</td>\n      <td>96</td>\n      <td>151</td>\n    </tr>\n    <tr>\n      <th>21</th>\n      <td>예술, 스포츠 및 여가관련서비스업</td>\n      <td>59</td>\n      <td>181</td>\n      <td>75</td>\n      <td>106</td>\n      <td>36</td>\n      <td>45</td>\n      <td>23</td>\n      <td>22</td>\n      <td>7</td>\n      <td>...</td>\n      <td>9</td>\n      <td>8</td>\n      <td>13</td>\n      <td>23</td>\n      <td>10</td>\n      <td>13</td>\n      <td>23</td>\n      <td>51</td>\n      <td>28</td>\n      <td>23</td>\n    </tr>\n    <tr>\n      <th>22</th>\n      <td>협회 및 단체, 수리 및 기타 개인서비스업</td>\n      <td>207</td>\n      <td>537</td>\n      <td>297</td>\n      <td>240</td>\n      <td>84</td>\n      <td>155</td>\n      <td>65</td>\n      <td>90</td>\n      <td>101</td>\n      <td>...</td>\n      <td>130</td>\n      <td>111</td>\n      <td>107</td>\n      <td>304</td>\n      <td>191</td>\n      <td>113</td>\n      <td>115</td>\n      <td>181</td>\n      <td>67</td>\n      <td>114</td>\n    </tr>\n  </tbody>\n</table>\n<p>23 rows × 97 columns</p>\n</div>"
     },
     "metadata": {},
     "execution_count": 12
    }
   ],
   "source": [
    "test4 = pd.read_csv('./DATA/산업대분류__읍면동별_사업체수__종사자수_20210328205349.csv')\n",
    "test4"
   ]
  },
  {
   "cell_type": "code",
   "execution_count": 13,
   "metadata": {},
   "outputs": [
    {
     "output_type": "stream",
     "name": "stdout",
     "text": [
      "<class 'pandas.core.frame.DataFrame'>\nRangeIndex: 23 entries, 0 to 22\nData columns (total 97 columns):\n #   Column     Non-Null Count  Dtype \n---  ------     --------------  ----- \n 0   산업대분류별(1)  23 non-null     object\n 1   2016       23 non-null     object\n 2   2016.1     23 non-null     object\n 3   2016.2     23 non-null     object\n 4   2016.3     23 non-null     object\n 5   2016.4     23 non-null     object\n 6   2016.5     23 non-null     object\n 7   2016.6     23 non-null     object\n 8   2016.7     23 non-null     object\n 9   2016.8     23 non-null     object\n 10  2016.9     23 non-null     object\n 11  2016.10    23 non-null     object\n 12  2016.11    23 non-null     object\n 13  2016.12    23 non-null     object\n 14  2016.13    23 non-null     object\n 15  2016.14    23 non-null     object\n 16  2016.15    23 non-null     object\n 17  2016.16    23 non-null     object\n 18  2016.17    23 non-null     object\n 19  2016.18    23 non-null     object\n 20  2016.19    23 non-null     object\n 21  2016.20    23 non-null     object\n 22  2016.21    23 non-null     object\n 23  2016.22    23 non-null     object\n 24  2016.23    23 non-null     object\n 25  2016.24    23 non-null     object\n 26  2016.25    23 non-null     object\n 27  2016.26    23 non-null     object\n 28  2016.27    23 non-null     object\n 29  2016.28    23 non-null     object\n 30  2016.29    23 non-null     object\n 31  2016.30    23 non-null     object\n 32  2016.31    23 non-null     object\n 33  2016.32    23 non-null     object\n 34  2016.33    23 non-null     object\n 35  2016.34    23 non-null     object\n 36  2016.35    23 non-null     object\n 37  2016.36    23 non-null     object\n 38  2016.37    23 non-null     object\n 39  2016.38    23 non-null     object\n 40  2016.39    23 non-null     object\n 41  2016.40    23 non-null     object\n 42  2016.41    23 non-null     object\n 43  2016.42    23 non-null     object\n 44  2016.43    23 non-null     object\n 45  2016.44    23 non-null     object\n 46  2016.45    23 non-null     object\n 47  2016.46    23 non-null     object\n 48  2016.47    23 non-null     object\n 49  2016.48    23 non-null     object\n 50  2016.49    23 non-null     object\n 51  2016.50    23 non-null     object\n 52  2016.51    23 non-null     object\n 53  2016.52    23 non-null     object\n 54  2016.53    23 non-null     object\n 55  2016.54    23 non-null     object\n 56  2016.55    23 non-null     object\n 57  2016.56    23 non-null     object\n 58  2016.57    23 non-null     object\n 59  2016.58    23 non-null     object\n 60  2016.59    23 non-null     object\n 61  2016.60    23 non-null     object\n 62  2016.61    23 non-null     object\n 63  2016.62    23 non-null     object\n 64  2016.63    23 non-null     object\n 65  2016.64    23 non-null     object\n 66  2016.65    23 non-null     object\n 67  2016.66    23 non-null     object\n 68  2016.67    23 non-null     object\n 69  2016.68    23 non-null     object\n 70  2016.69    23 non-null     object\n 71  2016.70    23 non-null     object\n 72  2016.71    23 non-null     object\n 73  2016.72    23 non-null     object\n 74  2016.73    23 non-null     object\n 75  2016.74    23 non-null     object\n 76  2016.75    23 non-null     object\n 77  2016.76    23 non-null     object\n 78  2016.77    23 non-null     object\n 79  2016.78    23 non-null     object\n 80  2016.79    23 non-null     object\n 81  2016.80    23 non-null     object\n 82  2016.81    23 non-null     object\n 83  2016.82    23 non-null     object\n 84  2016.83    23 non-null     object\n 85  2016.84    23 non-null     object\n 86  2016.85    23 non-null     object\n 87  2016.86    23 non-null     object\n 88  2016.87    23 non-null     object\n 89  2016.88    23 non-null     object\n 90  2016.89    23 non-null     object\n 91  2016.90    23 non-null     object\n 92  2016.91    23 non-null     object\n 93  2016.92    23 non-null     object\n 94  2016.93    23 non-null     object\n 95  2016.94    23 non-null     object\n 96  2016.95    23 non-null     object\ndtypes: object(97)\nmemory usage: 17.6+ KB\n"
     ]
    }
   ],
   "source": [
    "test4.info()"
   ]
  },
  {
   "cell_type": "code",
   "execution_count": 5,
   "metadata": {},
   "outputs": [
    {
     "output_type": "execute_result",
     "data": {
      "text/plain": [
       "      BASE_YEAR  BASE_MONTH GU_DC AGE_DC  MV_CNT\n",
       "0          2016           1   강서구    10대     412\n",
       "1          2016           1   강서구    20대     948\n",
       "2          2016           1   강서구    30대    2384\n",
       "3          2016           1   강서구    40대    2524\n",
       "4          2016           1   강서구    50대    2463\n",
       "...         ...         ...   ...    ...     ...\n",
       "5371       2019          12  해운대구    30대    3651\n",
       "5372       2019          12  해운대구    40대    4442\n",
       "5373       2019          12  해운대구    50대    4158\n",
       "5374       2019          12  해운대구    60대    2686\n",
       "5375       2019          12  해운대구    70대    2144\n",
       "\n",
       "[5376 rows x 5 columns]"
      ],
      "text/html": "<div>\n<style scoped>\n    .dataframe tbody tr th:only-of-type {\n        vertical-align: middle;\n    }\n\n    .dataframe tbody tr th {\n        vertical-align: top;\n    }\n\n    .dataframe thead th {\n        text-align: right;\n    }\n</style>\n<table border=\"1\" class=\"dataframe\">\n  <thead>\n    <tr style=\"text-align: right;\">\n      <th></th>\n      <th>BASE_YEAR</th>\n      <th>BASE_MONTH</th>\n      <th>GU_DC</th>\n      <th>AGE_DC</th>\n      <th>MV_CNT</th>\n    </tr>\n  </thead>\n  <tbody>\n    <tr>\n      <th>0</th>\n      <td>2016</td>\n      <td>1</td>\n      <td>강서구</td>\n      <td>10대</td>\n      <td>412</td>\n    </tr>\n    <tr>\n      <th>1</th>\n      <td>2016</td>\n      <td>1</td>\n      <td>강서구</td>\n      <td>20대</td>\n      <td>948</td>\n    </tr>\n    <tr>\n      <th>2</th>\n      <td>2016</td>\n      <td>1</td>\n      <td>강서구</td>\n      <td>30대</td>\n      <td>2384</td>\n    </tr>\n    <tr>\n      <th>3</th>\n      <td>2016</td>\n      <td>1</td>\n      <td>강서구</td>\n      <td>40대</td>\n      <td>2524</td>\n    </tr>\n    <tr>\n      <th>4</th>\n      <td>2016</td>\n      <td>1</td>\n      <td>강서구</td>\n      <td>50대</td>\n      <td>2463</td>\n    </tr>\n    <tr>\n      <th>...</th>\n      <td>...</td>\n      <td>...</td>\n      <td>...</td>\n      <td>...</td>\n      <td>...</td>\n    </tr>\n    <tr>\n      <th>5371</th>\n      <td>2019</td>\n      <td>12</td>\n      <td>해운대구</td>\n      <td>30대</td>\n      <td>3651</td>\n    </tr>\n    <tr>\n      <th>5372</th>\n      <td>2019</td>\n      <td>12</td>\n      <td>해운대구</td>\n      <td>40대</td>\n      <td>4442</td>\n    </tr>\n    <tr>\n      <th>5373</th>\n      <td>2019</td>\n      <td>12</td>\n      <td>해운대구</td>\n      <td>50대</td>\n      <td>4158</td>\n    </tr>\n    <tr>\n      <th>5374</th>\n      <td>2019</td>\n      <td>12</td>\n      <td>해운대구</td>\n      <td>60대</td>\n      <td>2686</td>\n    </tr>\n    <tr>\n      <th>5375</th>\n      <td>2019</td>\n      <td>12</td>\n      <td>해운대구</td>\n      <td>70대</td>\n      <td>2144</td>\n    </tr>\n  </tbody>\n</table>\n<p>5376 rows × 5 columns</p>\n</div>"
     },
     "metadata": {},
     "execution_count": 5
    }
   ],
   "source": [
    "test5 = pd.read_csv('./DATA/BC_BSN_AGE_CNT_202006.csv')\n",
    "test5"
   ]
  },
  {
   "cell_type": "code",
   "execution_count": 6,
   "metadata": {},
   "outputs": [
    {
     "output_type": "execute_result",
     "data": {
      "text/plain": [
       "       BASE_YEAR  BASE_MONTH GU_DC TIME_DC  MV_CNT\n",
       "0           2016           1   강서구      0시   13417\n",
       "1           2016           1   강서구     10시   30544\n",
       "2           2016           1   강서구     11시   29098\n",
       "3           2016           1   강서구     12시   28016\n",
       "4           2016           1   강서구     13시   28050\n",
       "...          ...         ...   ...     ...     ...\n",
       "18427       2019          12  해운대구      5시   25876\n",
       "18428       2019          12  해운대구      6시   25612\n",
       "18429       2019          12  해운대구      7시   25253\n",
       "18430       2019          12  해운대구      8시   24752\n",
       "18431       2019          12  해운대구      9시   24590\n",
       "\n",
       "[18432 rows x 5 columns]"
      ],
      "text/html": "<div>\n<style scoped>\n    .dataframe tbody tr th:only-of-type {\n        vertical-align: middle;\n    }\n\n    .dataframe tbody tr th {\n        vertical-align: top;\n    }\n\n    .dataframe thead th {\n        text-align: right;\n    }\n</style>\n<table border=\"1\" class=\"dataframe\">\n  <thead>\n    <tr style=\"text-align: right;\">\n      <th></th>\n      <th>BASE_YEAR</th>\n      <th>BASE_MONTH</th>\n      <th>GU_DC</th>\n      <th>TIME_DC</th>\n      <th>MV_CNT</th>\n    </tr>\n  </thead>\n  <tbody>\n    <tr>\n      <th>0</th>\n      <td>2016</td>\n      <td>1</td>\n      <td>강서구</td>\n      <td>0시</td>\n      <td>13417</td>\n    </tr>\n    <tr>\n      <th>1</th>\n      <td>2016</td>\n      <td>1</td>\n      <td>강서구</td>\n      <td>10시</td>\n      <td>30544</td>\n    </tr>\n    <tr>\n      <th>2</th>\n      <td>2016</td>\n      <td>1</td>\n      <td>강서구</td>\n      <td>11시</td>\n      <td>29098</td>\n    </tr>\n    <tr>\n      <th>3</th>\n      <td>2016</td>\n      <td>1</td>\n      <td>강서구</td>\n      <td>12시</td>\n      <td>28016</td>\n    </tr>\n    <tr>\n      <th>4</th>\n      <td>2016</td>\n      <td>1</td>\n      <td>강서구</td>\n      <td>13시</td>\n      <td>28050</td>\n    </tr>\n    <tr>\n      <th>...</th>\n      <td>...</td>\n      <td>...</td>\n      <td>...</td>\n      <td>...</td>\n      <td>...</td>\n    </tr>\n    <tr>\n      <th>18427</th>\n      <td>2019</td>\n      <td>12</td>\n      <td>해운대구</td>\n      <td>5시</td>\n      <td>25876</td>\n    </tr>\n    <tr>\n      <th>18428</th>\n      <td>2019</td>\n      <td>12</td>\n      <td>해운대구</td>\n      <td>6시</td>\n      <td>25612</td>\n    </tr>\n    <tr>\n      <th>18429</th>\n      <td>2019</td>\n      <td>12</td>\n      <td>해운대구</td>\n      <td>7시</td>\n      <td>25253</td>\n    </tr>\n    <tr>\n      <th>18430</th>\n      <td>2019</td>\n      <td>12</td>\n      <td>해운대구</td>\n      <td>8시</td>\n      <td>24752</td>\n    </tr>\n    <tr>\n      <th>18431</th>\n      <td>2019</td>\n      <td>12</td>\n      <td>해운대구</td>\n      <td>9시</td>\n      <td>24590</td>\n    </tr>\n  </tbody>\n</table>\n<p>18432 rows × 5 columns</p>\n</div>"
     },
     "metadata": {},
     "execution_count": 6
    }
   ],
   "source": [
    "test6 = pd.read_csv('./DATA/BC_BSN_TM_CNT_202006.csv')\n",
    "test6"
   ]
  },
  {
   "cell_type": "code",
   "execution_count": 8,
   "metadata": {},
   "outputs": [
    {
     "output_type": "execute_result",
     "data": {
      "text/plain": [
       "      BASE_YEAR  BASE_MONTH GU_DC WEEK_DC  MV_CNT\n",
       "0          2016           1   강서구       금   10468\n",
       "1          2016           1   강서구       목   11671\n",
       "2          2016           1   강서구       수   11897\n",
       "3          2016           1   강서구       월   11251\n",
       "4          2016           1   강서구       일    7225\n",
       "...         ...         ...   ...     ...     ...\n",
       "5371       2019          12  해운대구       수   25077\n",
       "5372       2019          12  해운대구       월   24820\n",
       "5373       2019          12  해운대구       일   26387\n",
       "5374       2019          12  해운대구       토   26291\n",
       "5375       2019          12  해운대구       화   24917\n",
       "\n",
       "[5376 rows x 5 columns]"
      ],
      "text/html": "<div>\n<style scoped>\n    .dataframe tbody tr th:only-of-type {\n        vertical-align: middle;\n    }\n\n    .dataframe tbody tr th {\n        vertical-align: top;\n    }\n\n    .dataframe thead th {\n        text-align: right;\n    }\n</style>\n<table border=\"1\" class=\"dataframe\">\n  <thead>\n    <tr style=\"text-align: right;\">\n      <th></th>\n      <th>BASE_YEAR</th>\n      <th>BASE_MONTH</th>\n      <th>GU_DC</th>\n      <th>WEEK_DC</th>\n      <th>MV_CNT</th>\n    </tr>\n  </thead>\n  <tbody>\n    <tr>\n      <th>0</th>\n      <td>2016</td>\n      <td>1</td>\n      <td>강서구</td>\n      <td>금</td>\n      <td>10468</td>\n    </tr>\n    <tr>\n      <th>1</th>\n      <td>2016</td>\n      <td>1</td>\n      <td>강서구</td>\n      <td>목</td>\n      <td>11671</td>\n    </tr>\n    <tr>\n      <th>2</th>\n      <td>2016</td>\n      <td>1</td>\n      <td>강서구</td>\n      <td>수</td>\n      <td>11897</td>\n    </tr>\n    <tr>\n      <th>3</th>\n      <td>2016</td>\n      <td>1</td>\n      <td>강서구</td>\n      <td>월</td>\n      <td>11251</td>\n    </tr>\n    <tr>\n      <th>4</th>\n      <td>2016</td>\n      <td>1</td>\n      <td>강서구</td>\n      <td>일</td>\n      <td>7225</td>\n    </tr>\n    <tr>\n      <th>...</th>\n      <td>...</td>\n      <td>...</td>\n      <td>...</td>\n      <td>...</td>\n      <td>...</td>\n    </tr>\n    <tr>\n      <th>5371</th>\n      <td>2019</td>\n      <td>12</td>\n      <td>해운대구</td>\n      <td>수</td>\n      <td>25077</td>\n    </tr>\n    <tr>\n      <th>5372</th>\n      <td>2019</td>\n      <td>12</td>\n      <td>해운대구</td>\n      <td>월</td>\n      <td>24820</td>\n    </tr>\n    <tr>\n      <th>5373</th>\n      <td>2019</td>\n      <td>12</td>\n      <td>해운대구</td>\n      <td>일</td>\n      <td>26387</td>\n    </tr>\n    <tr>\n      <th>5374</th>\n      <td>2019</td>\n      <td>12</td>\n      <td>해운대구</td>\n      <td>토</td>\n      <td>26291</td>\n    </tr>\n    <tr>\n      <th>5375</th>\n      <td>2019</td>\n      <td>12</td>\n      <td>해운대구</td>\n      <td>화</td>\n      <td>24917</td>\n    </tr>\n  </tbody>\n</table>\n<p>5376 rows × 5 columns</p>\n</div>"
     },
     "metadata": {},
     "execution_count": 8
    }
   ],
   "source": [
    "test7 = pd.read_csv('./DATA/BC_BSN_WEEK_CNT_202006.csv')\n",
    "test7"
   ]
  },
  {
   "cell_type": "code",
   "execution_count": 10,
   "metadata": {},
   "outputs": [
    {
     "output_type": "execute_result",
     "data": {
      "text/plain": [
       "      BASE_YEAR  BASE_MONTH GU_DC WORKTIME_DC  MV_CNT\n",
       "0          2016           1   강서구          출근   32833\n",
       "1          2016           1   강서구          퇴근   20904\n",
       "2          2016           1   금정구          출근   11695\n",
       "3          2016           1   금정구          퇴근   12641\n",
       "4          2016           1   기장군          출근   32420\n",
       "...         ...         ...   ...         ...     ...\n",
       "1531       2019          12   영도구          퇴근   10712\n",
       "1532       2019          12    중구          출근    7243\n",
       "1533       2019          12    중구          퇴근   11127\n",
       "1534       2019          12  해운대구          출근   24865\n",
       "1535       2019          12  해운대구          퇴근   25551\n",
       "\n",
       "[1536 rows x 5 columns]"
      ],
      "text/html": "<div>\n<style scoped>\n    .dataframe tbody tr th:only-of-type {\n        vertical-align: middle;\n    }\n\n    .dataframe tbody tr th {\n        vertical-align: top;\n    }\n\n    .dataframe thead th {\n        text-align: right;\n    }\n</style>\n<table border=\"1\" class=\"dataframe\">\n  <thead>\n    <tr style=\"text-align: right;\">\n      <th></th>\n      <th>BASE_YEAR</th>\n      <th>BASE_MONTH</th>\n      <th>GU_DC</th>\n      <th>WORKTIME_DC</th>\n      <th>MV_CNT</th>\n    </tr>\n  </thead>\n  <tbody>\n    <tr>\n      <th>0</th>\n      <td>2016</td>\n      <td>1</td>\n      <td>강서구</td>\n      <td>출근</td>\n      <td>32833</td>\n    </tr>\n    <tr>\n      <th>1</th>\n      <td>2016</td>\n      <td>1</td>\n      <td>강서구</td>\n      <td>퇴근</td>\n      <td>20904</td>\n    </tr>\n    <tr>\n      <th>2</th>\n      <td>2016</td>\n      <td>1</td>\n      <td>금정구</td>\n      <td>출근</td>\n      <td>11695</td>\n    </tr>\n    <tr>\n      <th>3</th>\n      <td>2016</td>\n      <td>1</td>\n      <td>금정구</td>\n      <td>퇴근</td>\n      <td>12641</td>\n    </tr>\n    <tr>\n      <th>4</th>\n      <td>2016</td>\n      <td>1</td>\n      <td>기장군</td>\n      <td>출근</td>\n      <td>32420</td>\n    </tr>\n    <tr>\n      <th>...</th>\n      <td>...</td>\n      <td>...</td>\n      <td>...</td>\n      <td>...</td>\n      <td>...</td>\n    </tr>\n    <tr>\n      <th>1531</th>\n      <td>2019</td>\n      <td>12</td>\n      <td>영도구</td>\n      <td>퇴근</td>\n      <td>10712</td>\n    </tr>\n    <tr>\n      <th>1532</th>\n      <td>2019</td>\n      <td>12</td>\n      <td>중구</td>\n      <td>출근</td>\n      <td>7243</td>\n    </tr>\n    <tr>\n      <th>1533</th>\n      <td>2019</td>\n      <td>12</td>\n      <td>중구</td>\n      <td>퇴근</td>\n      <td>11127</td>\n    </tr>\n    <tr>\n      <th>1534</th>\n      <td>2019</td>\n      <td>12</td>\n      <td>해운대구</td>\n      <td>출근</td>\n      <td>24865</td>\n    </tr>\n    <tr>\n      <th>1535</th>\n      <td>2019</td>\n      <td>12</td>\n      <td>해운대구</td>\n      <td>퇴근</td>\n      <td>25551</td>\n    </tr>\n  </tbody>\n</table>\n<p>1536 rows × 5 columns</p>\n</div>"
     },
     "metadata": {},
     "execution_count": 10
    }
   ],
   "source": [
    "test8 = pd.read_csv('./DATA/BC_BSN_WK_CNT_202006.csv')\n",
    "test8"
   ]
  },
  {
   "cell_type": "code",
   "execution_count": null,
   "metadata": {},
   "outputs": [],
   "source": []
  }
 ]
}