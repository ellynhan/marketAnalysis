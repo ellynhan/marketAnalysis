{
 "metadata": {
  "language_info": {
   "codemirror_mode": {
    "name": "ipython",
    "version": 3
   },
   "file_extension": ".py",
   "mimetype": "text/x-python",
   "name": "python",
   "nbconvert_exporter": "python",
   "pygments_lexer": "ipython3",
   "version": "3.8.7"
  },
  "orig_nbformat": 2,
  "kernelspec": {
   "name": "python3",
   "display_name": "Python 3.8.7 64-bit",
   "metadata": {
    "interpreter": {
     "hash": "752579dbebe7f4dfe7c1aa72eac13e23fc88be2cc1ea7ab14e1f8d69b2d97d12"
    }
   }
  }
 },
 "nbformat": 4,
 "nbformat_minor": 2,
 "cells": [
  {
   "cell_type": "code",
   "execution_count": 1,
   "metadata": {},
   "outputs": [],
   "source": [
    "import pandas as pd\n",
    "import numpy as np"
   ]
  },
  {
   "cell_type": "code",
   "execution_count": 17,
   "metadata": {},
   "outputs": [
    {
     "output_type": "execute_result",
     "data": {
      "text/plain": [
       "               세대수            인구수  202003_maxAmt  202003_minAmt  \\\n",
       "중앙동    1556.667684    2730.361469         8355.0         1792.0   \n",
       "동광동    1866.204542    3098.727611         4142.0          945.0   \n",
       "대청동    3490.663882    6488.369946            NaN            NaN   \n",
       "보수동    5829.283647   10777.853924            NaN            NaN   \n",
       "부평동    2675.937584    4824.404823         6823.0         1427.0   \n",
       "..             ...            ...            ...            ...   \n",
       "강서구   89839.986822  212685.372048        39157.0        14270.0   \n",
       "연제구  184913.229666  419594.596814        98167.0        31177.0   \n",
       "수영구  168431.423869  355326.328643       107367.0        28603.0   \n",
       "사상구  194439.919504  432266.162913        84864.0        28433.0   \n",
       "기장군  149557.940467  353084.862935        43393.0        12070.0   \n",
       "\n",
       "     202003_saleAmt  202004_maxAmt  202004_minAmt  202004_saleAmt  \\\n",
       "중앙동          5568.0         7535.0         1616.0          5021.0   \n",
       "동광동          2499.0         4164.0          950.0          2512.0   \n",
       "대청동             NaN            NaN            NaN             NaN   \n",
       "보수동             NaN            NaN            NaN             NaN   \n",
       "부평동          4028.0         6989.0         1462.0          4126.0   \n",
       "..              ...            ...            ...             ...   \n",
       "강서구         25914.0        37217.0        13560.0         24602.0   \n",
       "연제구         61055.0        91934.0        29197.0         57195.0   \n",
       "수영구         57705.0       109232.0        31220.0         59972.0   \n",
       "사상구         55860.0        82445.0        27767.0         54324.0   \n",
       "기장군         26432.0        40242.0        10717.0         24210.0   \n",
       "\n",
       "     202005_maxAmt  202005_minAmt  ...     sun  thirdHour    thur    tues  \\\n",
       "중앙동         8389.0         1799.0  ...    6.66      26.81   17.09   16.97   \n",
       "동광동         5018.0         1145.0  ...    8.79      22.35   15.77   15.81   \n",
       "대청동            NaN            NaN  ...     NaN        NaN     NaN     NaN   \n",
       "보수동            NaN            NaN  ...     NaN        NaN     NaN     NaN   \n",
       "부평동         7749.0         1621.0  ...   10.54      21.80   14.95   14.87   \n",
       "..             ...            ...  ...     ...        ...     ...     ...   \n",
       "강서구        39430.0        14332.0  ...   60.42     152.97   93.36   91.59   \n",
       "연제구        96464.0        30556.0  ...  119.56     253.11  182.30  180.86   \n",
       "수영구       114919.0        32129.0  ...  108.19     200.73  152.08  147.00   \n",
       "사상구        88286.0        29886.0  ...  114.47     261.97  187.02  184.44   \n",
       "기장군        42703.0        11350.0  ...   68.53     110.18   70.73   69.78   \n",
       "\n",
       "        wed  weekend   등급  편의점 경쟁업체 수           여성인구        외국인 수  \n",
       "중앙동   16.80    16.64  3등급          25    1182.011123   460.298931  \n",
       "동광동   15.45    21.75  4등급           5    1463.736299   256.359308  \n",
       "대청동     NaN      NaN  4등급           4    3452.871568    81.449122  \n",
       "보수동     NaN      NaN  5등급           4    5560.037126   236.615988  \n",
       "부평동   14.57    25.88  2등급          11    2558.370644   272.022234  \n",
       "..      ...      ...  ...         ...            ...          ...  \n",
       "강서구   93.87   139.24  NaN         160   70485.576769  5042.802131  \n",
       "연제구  183.74   288.85  NaN         181  109115.554361  1029.557174  \n",
       "수영구  148.73   257.79  NaN         173   93800.931574  1775.365816  \n",
       "사상구  184.72   275.90  NaN         158  106891.318031  5194.576562  \n",
       "기장군   71.21   146.61  NaN         154   88745.189524  2169.657420  \n",
       "\n",
       "[223 rows x 67 columns]"
      ],
      "text/html": "<div>\n<style scoped>\n    .dataframe tbody tr th:only-of-type {\n        vertical-align: middle;\n    }\n\n    .dataframe tbody tr th {\n        vertical-align: top;\n    }\n\n    .dataframe thead th {\n        text-align: right;\n    }\n</style>\n<table border=\"1\" class=\"dataframe\">\n  <thead>\n    <tr style=\"text-align: right;\">\n      <th></th>\n      <th>세대수</th>\n      <th>인구수</th>\n      <th>202003_maxAmt</th>\n      <th>202003_minAmt</th>\n      <th>202003_saleAmt</th>\n      <th>202004_maxAmt</th>\n      <th>202004_minAmt</th>\n      <th>202004_saleAmt</th>\n      <th>202005_maxAmt</th>\n      <th>202005_minAmt</th>\n      <th>...</th>\n      <th>sun</th>\n      <th>thirdHour</th>\n      <th>thur</th>\n      <th>tues</th>\n      <th>wed</th>\n      <th>weekend</th>\n      <th>등급</th>\n      <th>편의점 경쟁업체 수</th>\n      <th>여성인구</th>\n      <th>외국인 수</th>\n    </tr>\n  </thead>\n  <tbody>\n    <tr>\n      <th>중앙동</th>\n      <td>1556.667684</td>\n      <td>2730.361469</td>\n      <td>8355.0</td>\n      <td>1792.0</td>\n      <td>5568.0</td>\n      <td>7535.0</td>\n      <td>1616.0</td>\n      <td>5021.0</td>\n      <td>8389.0</td>\n      <td>1799.0</td>\n      <td>...</td>\n      <td>6.66</td>\n      <td>26.81</td>\n      <td>17.09</td>\n      <td>16.97</td>\n      <td>16.80</td>\n      <td>16.64</td>\n      <td>3등급</td>\n      <td>25</td>\n      <td>1182.011123</td>\n      <td>460.298931</td>\n    </tr>\n    <tr>\n      <th>동광동</th>\n      <td>1866.204542</td>\n      <td>3098.727611</td>\n      <td>4142.0</td>\n      <td>945.0</td>\n      <td>2499.0</td>\n      <td>4164.0</td>\n      <td>950.0</td>\n      <td>2512.0</td>\n      <td>5018.0</td>\n      <td>1145.0</td>\n      <td>...</td>\n      <td>8.79</td>\n      <td>22.35</td>\n      <td>15.77</td>\n      <td>15.81</td>\n      <td>15.45</td>\n      <td>21.75</td>\n      <td>4등급</td>\n      <td>5</td>\n      <td>1463.736299</td>\n      <td>256.359308</td>\n    </tr>\n    <tr>\n      <th>대청동</th>\n      <td>3490.663882</td>\n      <td>6488.369946</td>\n      <td>NaN</td>\n      <td>NaN</td>\n      <td>NaN</td>\n      <td>NaN</td>\n      <td>NaN</td>\n      <td>NaN</td>\n      <td>NaN</td>\n      <td>NaN</td>\n      <td>...</td>\n      <td>NaN</td>\n      <td>NaN</td>\n      <td>NaN</td>\n      <td>NaN</td>\n      <td>NaN</td>\n      <td>NaN</td>\n      <td>4등급</td>\n      <td>4</td>\n      <td>3452.871568</td>\n      <td>81.449122</td>\n    </tr>\n    <tr>\n      <th>보수동</th>\n      <td>5829.283647</td>\n      <td>10777.853924</td>\n      <td>NaN</td>\n      <td>NaN</td>\n      <td>NaN</td>\n      <td>NaN</td>\n      <td>NaN</td>\n      <td>NaN</td>\n      <td>NaN</td>\n      <td>NaN</td>\n      <td>...</td>\n      <td>NaN</td>\n      <td>NaN</td>\n      <td>NaN</td>\n      <td>NaN</td>\n      <td>NaN</td>\n      <td>NaN</td>\n      <td>5등급</td>\n      <td>4</td>\n      <td>5560.037126</td>\n      <td>236.615988</td>\n    </tr>\n    <tr>\n      <th>부평동</th>\n      <td>2675.937584</td>\n      <td>4824.404823</td>\n      <td>6823.0</td>\n      <td>1427.0</td>\n      <td>4028.0</td>\n      <td>6989.0</td>\n      <td>1462.0</td>\n      <td>4126.0</td>\n      <td>7749.0</td>\n      <td>1621.0</td>\n      <td>...</td>\n      <td>10.54</td>\n      <td>21.80</td>\n      <td>14.95</td>\n      <td>14.87</td>\n      <td>14.57</td>\n      <td>25.88</td>\n      <td>2등급</td>\n      <td>11</td>\n      <td>2558.370644</td>\n      <td>272.022234</td>\n    </tr>\n    <tr>\n      <th>...</th>\n      <td>...</td>\n      <td>...</td>\n      <td>...</td>\n      <td>...</td>\n      <td>...</td>\n      <td>...</td>\n      <td>...</td>\n      <td>...</td>\n      <td>...</td>\n      <td>...</td>\n      <td>...</td>\n      <td>...</td>\n      <td>...</td>\n      <td>...</td>\n      <td>...</td>\n      <td>...</td>\n      <td>...</td>\n      <td>...</td>\n      <td>...</td>\n      <td>...</td>\n      <td>...</td>\n    </tr>\n    <tr>\n      <th>강서구</th>\n      <td>89839.986822</td>\n      <td>212685.372048</td>\n      <td>39157.0</td>\n      <td>14270.0</td>\n      <td>25914.0</td>\n      <td>37217.0</td>\n      <td>13560.0</td>\n      <td>24602.0</td>\n      <td>39430.0</td>\n      <td>14332.0</td>\n      <td>...</td>\n      <td>60.42</td>\n      <td>152.97</td>\n      <td>93.36</td>\n      <td>91.59</td>\n      <td>93.87</td>\n      <td>139.24</td>\n      <td>NaN</td>\n      <td>160</td>\n      <td>70485.576769</td>\n      <td>5042.802131</td>\n    </tr>\n    <tr>\n      <th>연제구</th>\n      <td>184913.229666</td>\n      <td>419594.596814</td>\n      <td>98167.0</td>\n      <td>31177.0</td>\n      <td>61055.0</td>\n      <td>91934.0</td>\n      <td>29197.0</td>\n      <td>57195.0</td>\n      <td>96464.0</td>\n      <td>30556.0</td>\n      <td>...</td>\n      <td>119.56</td>\n      <td>253.11</td>\n      <td>182.30</td>\n      <td>180.86</td>\n      <td>183.74</td>\n      <td>288.85</td>\n      <td>NaN</td>\n      <td>181</td>\n      <td>109115.554361</td>\n      <td>1029.557174</td>\n    </tr>\n    <tr>\n      <th>수영구</th>\n      <td>168431.423869</td>\n      <td>355326.328643</td>\n      <td>107367.0</td>\n      <td>28603.0</td>\n      <td>57705.0</td>\n      <td>109232.0</td>\n      <td>31220.0</td>\n      <td>59972.0</td>\n      <td>114919.0</td>\n      <td>32129.0</td>\n      <td>...</td>\n      <td>108.19</td>\n      <td>200.73</td>\n      <td>152.08</td>\n      <td>147.00</td>\n      <td>148.73</td>\n      <td>257.79</td>\n      <td>NaN</td>\n      <td>173</td>\n      <td>93800.931574</td>\n      <td>1775.365816</td>\n    </tr>\n    <tr>\n      <th>사상구</th>\n      <td>194439.919504</td>\n      <td>432266.162913</td>\n      <td>84864.0</td>\n      <td>28433.0</td>\n      <td>55860.0</td>\n      <td>82445.0</td>\n      <td>27767.0</td>\n      <td>54324.0</td>\n      <td>88286.0</td>\n      <td>29886.0</td>\n      <td>...</td>\n      <td>114.47</td>\n      <td>261.97</td>\n      <td>187.02</td>\n      <td>184.44</td>\n      <td>184.72</td>\n      <td>275.90</td>\n      <td>NaN</td>\n      <td>158</td>\n      <td>106891.318031</td>\n      <td>5194.576562</td>\n    </tr>\n    <tr>\n      <th>기장군</th>\n      <td>149557.940467</td>\n      <td>353084.862935</td>\n      <td>43393.0</td>\n      <td>12070.0</td>\n      <td>26432.0</td>\n      <td>40242.0</td>\n      <td>10717.0</td>\n      <td>24210.0</td>\n      <td>42703.0</td>\n      <td>11350.0</td>\n      <td>...</td>\n      <td>68.53</td>\n      <td>110.18</td>\n      <td>70.73</td>\n      <td>69.78</td>\n      <td>71.21</td>\n      <td>146.61</td>\n      <td>NaN</td>\n      <td>154</td>\n      <td>88745.189524</td>\n      <td>2169.657420</td>\n    </tr>\n  </tbody>\n</table>\n<p>223 rows × 67 columns</p>\n</div>"
     },
     "metadata": {},
     "execution_count": 17
    }
   ],
   "source": [
    "final_data = pd.read_csv(\"../DATA/final_data.csv\", index_col=0)\n",
    "final_data"
   ]
  },
  {
   "source": [
    "# 5가지 컬럼으로 분석"
   ],
   "cell_type": "markdown",
   "metadata": {}
  },
  {
   "source": [
    "## 총인구"
   ],
   "cell_type": "markdown",
   "metadata": {}
  },
  {
   "cell_type": "code",
   "execution_count": 20,
   "metadata": {},
   "outputs": [
    {
     "output_type": "stream",
     "name": "stdout",
     "text": [
      "<class 'pandas.core.frame.DataFrame'>\nIndex: 223 entries, 중앙동 to 기장군\nData columns (total 67 columns):\n #   Column          Non-Null Count  Dtype  \n---  ------          --------------  -----  \n 0   세대수             218 non-null    float64\n 1   인구수             218 non-null    float64\n 2   202003_maxAmt   205 non-null    float64\n 3   202003_minAmt   205 non-null    float64\n 4   202003_saleAmt  205 non-null    float64\n 5   202004_maxAmt   205 non-null    float64\n 6   202004_minAmt   205 non-null    float64\n 7   202004_saleAmt  205 non-null    float64\n 8   202005_maxAmt   205 non-null    float64\n 9   202005_minAmt   205 non-null    float64\n 10  202005_saleAmt  205 non-null    float64\n 11  202006_maxAmt   205 non-null    float64\n 12  202006_minAmt   205 non-null    float64\n 13  202006_saleAmt  205 non-null    float64\n 14  202007_maxAmt   205 non-null    float64\n 15  202007_minAmt   205 non-null    float64\n 16  202007_saleAmt  205 non-null    float64\n 17  202008_maxAmt   205 non-null    float64\n 18  202008_minAmt   205 non-null    float64\n 19  202008_saleAmt  205 non-null    float64\n 20  202009_maxAmt   205 non-null    float64\n 21  202009_minAmt   205 non-null    float64\n 22  202009_saleAmt  205 non-null    float64\n 23  202010_maxAmt   205 non-null    float64\n 24  202010_minAmt   205 non-null    float64\n 25  202010_saleAmt  205 non-null    float64\n 26  202011_maxAmt   205 non-null    float64\n 27  202011_minAmt   205 non-null    float64\n 28  202011_saleAmt  205 non-null    float64\n 29  202012_maxAmt   205 non-null    float64\n 30  202012_minAmt   205 non-null    float64\n 31  202012_saleAmt  205 non-null    float64\n 32  202101_maxAmt   205 non-null    float64\n 33  202101_minAmt   205 non-null    float64\n 34  202101_saleAmt  205 non-null    float64\n 35  202102_maxAmt   205 non-null    float64\n 36  202102_minAmt   205 non-null    float64\n 37  202102_saleAmt  205 non-null    float64\n 38  202103_maxAmt   205 non-null    float64\n 39  202103_minAmt   205 non-null    float64\n 40  202103_saleAmt  205 non-null    float64\n 41  guAmt           205 non-null    float64\n 42  guMax           205 non-null    float64\n 43  guMin           205 non-null    float64\n 44  prevMonCnt      205 non-null    float64\n 45  prevYearCnt     205 non-null    float64\n 46  saleCnt         205 non-null    float64\n 47  day             205 non-null    float64\n 48  dayAvg          205 non-null    float64\n 49  fifthHour       205 non-null    float64\n 50  firstHour       205 non-null    float64\n 51  fourthHour      205 non-null    float64\n 52  fri             205 non-null    float64\n 53  mon             205 non-null    float64\n 54  sat             205 non-null    float64\n 55  secondHour      205 non-null    float64\n 56  sixthHour       205 non-null    float64\n 57  sun             205 non-null    float64\n 58  thirdHour       205 non-null    float64\n 59  thur            205 non-null    float64\n 60  tues            205 non-null    float64\n 61  wed             205 non-null    float64\n 62  weekend         205 non-null    float64\n 63  등급              203 non-null    object \n 64  편의점 경쟁업체 수      223 non-null    int64  \n 65  여성인구            218 non-null    float64\n 66  외국인 수           218 non-null    float64\ndtypes: float64(65), int64(1), object(1)\nmemory usage: 118.5+ KB\n"
     ]
    }
   ],
   "source": [
    "final_data.info()"
   ]
  },
  {
   "source": [
    "## 유동인구"
   ],
   "cell_type": "markdown",
   "metadata": {}
  },
  {
   "cell_type": "code",
   "execution_count": null,
   "metadata": {},
   "outputs": [],
   "source": []
  },
  {
   "source": [
    "## 구매력"
   ],
   "cell_type": "markdown",
   "metadata": {}
  },
  {
   "cell_type": "code",
   "execution_count": null,
   "metadata": {},
   "outputs": [],
   "source": []
  },
  {
   "source": [
    "## 경쟁업체\n"
   ],
   "cell_type": "markdown",
   "metadata": {}
  },
  {
   "cell_type": "code",
   "execution_count": null,
   "metadata": {},
   "outputs": [],
   "source": []
  },
  {
   "source": [
    "## 무인화"
   ],
   "cell_type": "markdown",
   "metadata": {}
  },
  {
   "cell_type": "code",
   "execution_count": null,
   "metadata": {},
   "outputs": [],
   "source": []
  },
  {
   "cell_type": "code",
   "execution_count": null,
   "metadata": {},
   "outputs": [],
   "source": []
  },
  {
   "cell_type": "code",
   "execution_count": null,
   "metadata": {},
   "outputs": [],
   "source": []
  }
 ]
}