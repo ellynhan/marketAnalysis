{
 "metadata": {
  "language_info": {
   "codemirror_mode": {
    "name": "ipython",
    "version": 3
   },
   "file_extension": ".py",
   "mimetype": "text/x-python",
   "name": "python",
   "nbconvert_exporter": "python",
   "pygments_lexer": "ipython3",
   "version": "3.8.6-final"
  },
  "orig_nbformat": 2,
  "kernelspec": {
   "name": "python386jvsc74a57bd02db524e06e9f5f4ffedc911c917cb75e12dbc923643829bf417064a77eb14d37",
   "display_name": "Python 3.8.6 64-bit"
  }
 },
 "nbformat": 4,
 "nbformat_minor": 2,
 "cells": [
  {
   "cell_type": "code",
   "execution_count": 1,
   "metadata": {},
   "outputs": [],
   "source": [
    "import pandas as pd"
   ]
  },
  {
   "cell_type": "code",
   "execution_count": 7,
   "metadata": {},
   "outputs": [],
   "source": [
    "df_age = pd.read_csv(\"../DATA/BC_BSN_AGE_CNT_202006.csv\")\n",
    "df_tm = pd.read_csv(\"../DATA/BC_BSN_TM_CNT_202006.csv\")\n",
    "df_week = pd.read_csv(\"../DATA/BC_BSN_WEEK_CNT_202006.csv\")\n",
    "df_wk = pd.read_csv(\"../DATA/BC_BSN_WK_CNT_202006.csv\")"
   ]
  },
  {
   "cell_type": "code",
   "execution_count": 16,
   "metadata": {},
   "outputs": [
    {
     "output_type": "execute_result",
     "data": {
      "text/plain": [
       "      BASE_YEAR  BASE_MONTH GU_DC AGE_DC  MV_CNT\n",
       "0          2016           1   강서구    10대     412\n",
       "1          2016           1   강서구    20대     948\n",
       "2          2016           1   강서구    30대    2384\n",
       "3          2016           1   강서구    40대    2524\n",
       "4          2016           1   강서구    50대    2463\n",
       "...         ...         ...   ...    ...     ...\n",
       "5371       2019          12  해운대구    30대    3651\n",
       "5372       2019          12  해운대구    40대    4442\n",
       "5373       2019          12  해운대구    50대    4158\n",
       "5374       2019          12  해운대구    60대    2686\n",
       "5375       2019          12  해운대구    70대    2144\n",
       "\n",
       "[5376 rows x 5 columns]"
      ],
      "text/html": "<div>\n<style scoped>\n    .dataframe tbody tr th:only-of-type {\n        vertical-align: middle;\n    }\n\n    .dataframe tbody tr th {\n        vertical-align: top;\n    }\n\n    .dataframe thead th {\n        text-align: right;\n    }\n</style>\n<table border=\"1\" class=\"dataframe\">\n  <thead>\n    <tr style=\"text-align: right;\">\n      <th></th>\n      <th>BASE_YEAR</th>\n      <th>BASE_MONTH</th>\n      <th>GU_DC</th>\n      <th>AGE_DC</th>\n      <th>MV_CNT</th>\n    </tr>\n  </thead>\n  <tbody>\n    <tr>\n      <th>0</th>\n      <td>2016</td>\n      <td>1</td>\n      <td>강서구</td>\n      <td>10대</td>\n      <td>412</td>\n    </tr>\n    <tr>\n      <th>1</th>\n      <td>2016</td>\n      <td>1</td>\n      <td>강서구</td>\n      <td>20대</td>\n      <td>948</td>\n    </tr>\n    <tr>\n      <th>2</th>\n      <td>2016</td>\n      <td>1</td>\n      <td>강서구</td>\n      <td>30대</td>\n      <td>2384</td>\n    </tr>\n    <tr>\n      <th>3</th>\n      <td>2016</td>\n      <td>1</td>\n      <td>강서구</td>\n      <td>40대</td>\n      <td>2524</td>\n    </tr>\n    <tr>\n      <th>4</th>\n      <td>2016</td>\n      <td>1</td>\n      <td>강서구</td>\n      <td>50대</td>\n      <td>2463</td>\n    </tr>\n    <tr>\n      <th>...</th>\n      <td>...</td>\n      <td>...</td>\n      <td>...</td>\n      <td>...</td>\n      <td>...</td>\n    </tr>\n    <tr>\n      <th>5371</th>\n      <td>2019</td>\n      <td>12</td>\n      <td>해운대구</td>\n      <td>30대</td>\n      <td>3651</td>\n    </tr>\n    <tr>\n      <th>5372</th>\n      <td>2019</td>\n      <td>12</td>\n      <td>해운대구</td>\n      <td>40대</td>\n      <td>4442</td>\n    </tr>\n    <tr>\n      <th>5373</th>\n      <td>2019</td>\n      <td>12</td>\n      <td>해운대구</td>\n      <td>50대</td>\n      <td>4158</td>\n    </tr>\n    <tr>\n      <th>5374</th>\n      <td>2019</td>\n      <td>12</td>\n      <td>해운대구</td>\n      <td>60대</td>\n      <td>2686</td>\n    </tr>\n    <tr>\n      <th>5375</th>\n      <td>2019</td>\n      <td>12</td>\n      <td>해운대구</td>\n      <td>70대</td>\n      <td>2144</td>\n    </tr>\n  </tbody>\n</table>\n<p>5376 rows × 5 columns</p>\n</div>"
     },
     "metadata": {},
     "execution_count": 16
    }
   ],
   "source": [
    "df_age"
   ]
  },
  {
   "cell_type": "code",
   "execution_count": 17,
   "metadata": {},
   "outputs": [
    {
     "output_type": "execute_result",
     "data": {
      "text/plain": [
       "       BASE_YEAR  BASE_MONTH GU_DC TIME_DC  MV_CNT\n",
       "0           2016           1   강서구      0시   13417\n",
       "1           2016           1   강서구     10시   30544\n",
       "2           2016           1   강서구     11시   29098\n",
       "3           2016           1   강서구     12시   28016\n",
       "4           2016           1   강서구     13시   28050\n",
       "...          ...         ...   ...     ...     ...\n",
       "18427       2019          12  해운대구      5시   25876\n",
       "18428       2019          12  해운대구      6시   25612\n",
       "18429       2019          12  해운대구      7시   25253\n",
       "18430       2019          12  해운대구      8시   24752\n",
       "18431       2019          12  해운대구      9시   24590\n",
       "\n",
       "[18432 rows x 5 columns]"
      ],
      "text/html": "<div>\n<style scoped>\n    .dataframe tbody tr th:only-of-type {\n        vertical-align: middle;\n    }\n\n    .dataframe tbody tr th {\n        vertical-align: top;\n    }\n\n    .dataframe thead th {\n        text-align: right;\n    }\n</style>\n<table border=\"1\" class=\"dataframe\">\n  <thead>\n    <tr style=\"text-align: right;\">\n      <th></th>\n      <th>BASE_YEAR</th>\n      <th>BASE_MONTH</th>\n      <th>GU_DC</th>\n      <th>TIME_DC</th>\n      <th>MV_CNT</th>\n    </tr>\n  </thead>\n  <tbody>\n    <tr>\n      <th>0</th>\n      <td>2016</td>\n      <td>1</td>\n      <td>강서구</td>\n      <td>0시</td>\n      <td>13417</td>\n    </tr>\n    <tr>\n      <th>1</th>\n      <td>2016</td>\n      <td>1</td>\n      <td>강서구</td>\n      <td>10시</td>\n      <td>30544</td>\n    </tr>\n    <tr>\n      <th>2</th>\n      <td>2016</td>\n      <td>1</td>\n      <td>강서구</td>\n      <td>11시</td>\n      <td>29098</td>\n    </tr>\n    <tr>\n      <th>3</th>\n      <td>2016</td>\n      <td>1</td>\n      <td>강서구</td>\n      <td>12시</td>\n      <td>28016</td>\n    </tr>\n    <tr>\n      <th>4</th>\n      <td>2016</td>\n      <td>1</td>\n      <td>강서구</td>\n      <td>13시</td>\n      <td>28050</td>\n    </tr>\n    <tr>\n      <th>...</th>\n      <td>...</td>\n      <td>...</td>\n      <td>...</td>\n      <td>...</td>\n      <td>...</td>\n    </tr>\n    <tr>\n      <th>18427</th>\n      <td>2019</td>\n      <td>12</td>\n      <td>해운대구</td>\n      <td>5시</td>\n      <td>25876</td>\n    </tr>\n    <tr>\n      <th>18428</th>\n      <td>2019</td>\n      <td>12</td>\n      <td>해운대구</td>\n      <td>6시</td>\n      <td>25612</td>\n    </tr>\n    <tr>\n      <th>18429</th>\n      <td>2019</td>\n      <td>12</td>\n      <td>해운대구</td>\n      <td>7시</td>\n      <td>25253</td>\n    </tr>\n    <tr>\n      <th>18430</th>\n      <td>2019</td>\n      <td>12</td>\n      <td>해운대구</td>\n      <td>8시</td>\n      <td>24752</td>\n    </tr>\n    <tr>\n      <th>18431</th>\n      <td>2019</td>\n      <td>12</td>\n      <td>해운대구</td>\n      <td>9시</td>\n      <td>24590</td>\n    </tr>\n  </tbody>\n</table>\n<p>18432 rows × 5 columns</p>\n</div>"
     },
     "metadata": {},
     "execution_count": 17
    }
   ],
   "source": [
    "df_tm"
   ]
  },
  {
   "cell_type": "code",
   "execution_count": 22,
   "metadata": {},
   "outputs": [
    {
     "output_type": "execute_result",
     "data": {
      "text/plain": [
       "      BASE_YEAR  BASE_MONTH GU_DC WEEK_DC  MV_CNT\n",
       "0          2016           1   강서구       금   10468\n",
       "1          2016           1   강서구       목   11671\n",
       "2          2016           1   강서구       수   11897\n",
       "3          2016           1   강서구       월   11251\n",
       "4          2016           1   강서구       일    7225\n",
       "...         ...         ...   ...     ...     ...\n",
       "5371       2019          12  해운대구       수   25077\n",
       "5372       2019          12  해운대구       월   24820\n",
       "5373       2019          12  해운대구       일   26387\n",
       "5374       2019          12  해운대구       토   26291\n",
       "5375       2019          12  해운대구       화   24917\n",
       "\n",
       "[5376 rows x 5 columns]"
      ],
      "text/html": "<div>\n<style scoped>\n    .dataframe tbody tr th:only-of-type {\n        vertical-align: middle;\n    }\n\n    .dataframe tbody tr th {\n        vertical-align: top;\n    }\n\n    .dataframe thead th {\n        text-align: right;\n    }\n</style>\n<table border=\"1\" class=\"dataframe\">\n  <thead>\n    <tr style=\"text-align: right;\">\n      <th></th>\n      <th>BASE_YEAR</th>\n      <th>BASE_MONTH</th>\n      <th>GU_DC</th>\n      <th>WEEK_DC</th>\n      <th>MV_CNT</th>\n    </tr>\n  </thead>\n  <tbody>\n    <tr>\n      <th>0</th>\n      <td>2016</td>\n      <td>1</td>\n      <td>강서구</td>\n      <td>금</td>\n      <td>10468</td>\n    </tr>\n    <tr>\n      <th>1</th>\n      <td>2016</td>\n      <td>1</td>\n      <td>강서구</td>\n      <td>목</td>\n      <td>11671</td>\n    </tr>\n    <tr>\n      <th>2</th>\n      <td>2016</td>\n      <td>1</td>\n      <td>강서구</td>\n      <td>수</td>\n      <td>11897</td>\n    </tr>\n    <tr>\n      <th>3</th>\n      <td>2016</td>\n      <td>1</td>\n      <td>강서구</td>\n      <td>월</td>\n      <td>11251</td>\n    </tr>\n    <tr>\n      <th>4</th>\n      <td>2016</td>\n      <td>1</td>\n      <td>강서구</td>\n      <td>일</td>\n      <td>7225</td>\n    </tr>\n    <tr>\n      <th>...</th>\n      <td>...</td>\n      <td>...</td>\n      <td>...</td>\n      <td>...</td>\n      <td>...</td>\n    </tr>\n    <tr>\n      <th>5371</th>\n      <td>2019</td>\n      <td>12</td>\n      <td>해운대구</td>\n      <td>수</td>\n      <td>25077</td>\n    </tr>\n    <tr>\n      <th>5372</th>\n      <td>2019</td>\n      <td>12</td>\n      <td>해운대구</td>\n      <td>월</td>\n      <td>24820</td>\n    </tr>\n    <tr>\n      <th>5373</th>\n      <td>2019</td>\n      <td>12</td>\n      <td>해운대구</td>\n      <td>일</td>\n      <td>26387</td>\n    </tr>\n    <tr>\n      <th>5374</th>\n      <td>2019</td>\n      <td>12</td>\n      <td>해운대구</td>\n      <td>토</td>\n      <td>26291</td>\n    </tr>\n    <tr>\n      <th>5375</th>\n      <td>2019</td>\n      <td>12</td>\n      <td>해운대구</td>\n      <td>화</td>\n      <td>24917</td>\n    </tr>\n  </tbody>\n</table>\n<p>5376 rows × 5 columns</p>\n</div>"
     },
     "metadata": {},
     "execution_count": 22
    }
   ],
   "source": [
    "df_week"
   ]
  },
  {
   "cell_type": "code",
   "execution_count": 19,
   "metadata": {},
   "outputs": [
    {
     "output_type": "execute_result",
     "data": {
      "text/plain": [
       "      BASE_YEAR  BASE_MONTH GU_DC WORKTIME_DC  MV_CNT\n",
       "0          2016           1   강서구          출근   32833\n",
       "1          2016           1   강서구          퇴근   20904\n",
       "2          2016           1   금정구          출근   11695\n",
       "3          2016           1   금정구          퇴근   12641\n",
       "4          2016           1   기장군          출근   32420\n",
       "...         ...         ...   ...         ...     ...\n",
       "1531       2019          12   영도구          퇴근   10712\n",
       "1532       2019          12    중구          출근    7243\n",
       "1533       2019          12    중구          퇴근   11127\n",
       "1534       2019          12  해운대구          출근   24865\n",
       "1535       2019          12  해운대구          퇴근   25551\n",
       "\n",
       "[1536 rows x 5 columns]"
      ],
      "text/html": "<div>\n<style scoped>\n    .dataframe tbody tr th:only-of-type {\n        vertical-align: middle;\n    }\n\n    .dataframe tbody tr th {\n        vertical-align: top;\n    }\n\n    .dataframe thead th {\n        text-align: right;\n    }\n</style>\n<table border=\"1\" class=\"dataframe\">\n  <thead>\n    <tr style=\"text-align: right;\">\n      <th></th>\n      <th>BASE_YEAR</th>\n      <th>BASE_MONTH</th>\n      <th>GU_DC</th>\n      <th>WORKTIME_DC</th>\n      <th>MV_CNT</th>\n    </tr>\n  </thead>\n  <tbody>\n    <tr>\n      <th>0</th>\n      <td>2016</td>\n      <td>1</td>\n      <td>강서구</td>\n      <td>출근</td>\n      <td>32833</td>\n    </tr>\n    <tr>\n      <th>1</th>\n      <td>2016</td>\n      <td>1</td>\n      <td>강서구</td>\n      <td>퇴근</td>\n      <td>20904</td>\n    </tr>\n    <tr>\n      <th>2</th>\n      <td>2016</td>\n      <td>1</td>\n      <td>금정구</td>\n      <td>출근</td>\n      <td>11695</td>\n    </tr>\n    <tr>\n      <th>3</th>\n      <td>2016</td>\n      <td>1</td>\n      <td>금정구</td>\n      <td>퇴근</td>\n      <td>12641</td>\n    </tr>\n    <tr>\n      <th>4</th>\n      <td>2016</td>\n      <td>1</td>\n      <td>기장군</td>\n      <td>출근</td>\n      <td>32420</td>\n    </tr>\n    <tr>\n      <th>...</th>\n      <td>...</td>\n      <td>...</td>\n      <td>...</td>\n      <td>...</td>\n      <td>...</td>\n    </tr>\n    <tr>\n      <th>1531</th>\n      <td>2019</td>\n      <td>12</td>\n      <td>영도구</td>\n      <td>퇴근</td>\n      <td>10712</td>\n    </tr>\n    <tr>\n      <th>1532</th>\n      <td>2019</td>\n      <td>12</td>\n      <td>중구</td>\n      <td>출근</td>\n      <td>7243</td>\n    </tr>\n    <tr>\n      <th>1533</th>\n      <td>2019</td>\n      <td>12</td>\n      <td>중구</td>\n      <td>퇴근</td>\n      <td>11127</td>\n    </tr>\n    <tr>\n      <th>1534</th>\n      <td>2019</td>\n      <td>12</td>\n      <td>해운대구</td>\n      <td>출근</td>\n      <td>24865</td>\n    </tr>\n    <tr>\n      <th>1535</th>\n      <td>2019</td>\n      <td>12</td>\n      <td>해운대구</td>\n      <td>퇴근</td>\n      <td>25551</td>\n    </tr>\n  </tbody>\n</table>\n<p>1536 rows × 5 columns</p>\n</div>"
     },
     "metadata": {},
     "execution_count": 19
    }
   ],
   "source": [
    "df_wk"
   ]
  },
  {
   "cell_type": "code",
   "execution_count": 23,
   "metadata": {},
   "outputs": [
    {
     "output_type": "stream",
     "name": "stdout",
     "text": [
      "BASE_YEAR\n2016    3180474\n2017    3484026\n2018    3558825\n2019    3466603\nName: MV_CNT, dtype: int64\nBASE_YEAR\n2016    77336429\n2017    82294288\n2018    83907736\n2019    82739363\nName: MV_CNT, dtype: int64\nBASE_YEAR\n2016    22279368\n2017    24388788\n2018    24910168\n2019    24261278\nName: MV_CNT, dtype: int64\nBASE_YEAR\n2016    6297477\n2017    6927784\n2018    7106526\n2019    6940294\nName: MV_CNT, dtype: int64\n"
     ]
    }
   ],
   "source": [
    "print(df_age.groupby(\"BASE_YEAR\").sum()[\"MV_CNT\"])\n",
    "print(df_tm.groupby(\"BASE_YEAR\").sum()[\"MV_CNT\"])\n",
    "print(df_week.groupby(\"BASE_YEAR\").sum()[\"MV_CNT\"])\n",
    "print(df_wk.groupby(\"BASE_YEAR\").sum()[\"MV_CNT\"])"
   ]
  },
  {
   "cell_type": "code",
   "execution_count": 26,
   "metadata": {},
   "outputs": [
    {
     "output_type": "execute_result",
     "data": {
      "text/plain": [
       "   BASE_YEAR  BASE_MONTH GU_DC WEEK_DC  MV_CNT\n",
       "0       2016           1   강서구       금   10468\n",
       "1       2016           1   강서구       목   11671\n",
       "2       2016           1   강서구       수   11897\n",
       "3       2016           1   강서구       월   11251\n",
       "4       2016           1   강서구       일    7225"
      ],
      "text/html": "<div>\n<style scoped>\n    .dataframe tbody tr th:only-of-type {\n        vertical-align: middle;\n    }\n\n    .dataframe tbody tr th {\n        vertical-align: top;\n    }\n\n    .dataframe thead th {\n        text-align: right;\n    }\n</style>\n<table border=\"1\" class=\"dataframe\">\n  <thead>\n    <tr style=\"text-align: right;\">\n      <th></th>\n      <th>BASE_YEAR</th>\n      <th>BASE_MONTH</th>\n      <th>GU_DC</th>\n      <th>WEEK_DC</th>\n      <th>MV_CNT</th>\n    </tr>\n  </thead>\n  <tbody>\n    <tr>\n      <th>0</th>\n      <td>2016</td>\n      <td>1</td>\n      <td>강서구</td>\n      <td>금</td>\n      <td>10468</td>\n    </tr>\n    <tr>\n      <th>1</th>\n      <td>2016</td>\n      <td>1</td>\n      <td>강서구</td>\n      <td>목</td>\n      <td>11671</td>\n    </tr>\n    <tr>\n      <th>2</th>\n      <td>2016</td>\n      <td>1</td>\n      <td>강서구</td>\n      <td>수</td>\n      <td>11897</td>\n    </tr>\n    <tr>\n      <th>3</th>\n      <td>2016</td>\n      <td>1</td>\n      <td>강서구</td>\n      <td>월</td>\n      <td>11251</td>\n    </tr>\n    <tr>\n      <th>4</th>\n      <td>2016</td>\n      <td>1</td>\n      <td>강서구</td>\n      <td>일</td>\n      <td>7225</td>\n    </tr>\n  </tbody>\n</table>\n</div>"
     },
     "metadata": {},
     "execution_count": 26
    }
   ],
   "source": [
    "df_week.head()"
   ]
  },
  {
   "cell_type": "code",
   "execution_count": null,
   "metadata": {},
   "outputs": [],
   "source": []
  }
 ]
}